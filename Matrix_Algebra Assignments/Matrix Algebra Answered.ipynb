{
 "cells": [
  {
   "cell_type": "markdown",
   "id": "000746fe-3023-4efc-9997-6f35c64d064f",
   "metadata": {},
   "source": [
    "# <font color=red> CODE CHALLENGES </font>\n",
    "---\n",
    "### Instruction\n",
    "1. Push your solutions to your github account.\n",
    "3. Deadline is before finals.\n",
    "---\n",
    "1. Without the use of any python libraries or modules, develop a function that can perform matrix addition, given two numpy matrices.\n",
    "2. Without the use of any python libraries or modules, develop a function that can multiply two numpy matrices.\n",
    "3. The rule of distributivity states that given two matrices $A$ and $B$ and a scalar, $k$, then $k(A+B)=kA+kB$. Instead of writing a proof mathematically, develop two codes for $k(A+B)$ and $kA+kB$.\n",
    "4. Without using a python library or modules develop a function that can extract the diagonal of a numpy matrix.\n",
    "5. Without using a python library or modules develop a function that can find a trace of a numpy matrix."
   ]
  },
  {
   "cell_type": "code",
   "execution_count": 1,
   "id": "a9aa544d-a496-4e48-a854-45ccfa284c30",
   "metadata": {},
   "outputs": [
    {
     "name": "stdout",
     "output_type": "stream",
     "text": [
      "Matrix 1:\n",
      "[2, 2, 3]\n",
      "[4, 5, 6]\n",
      "[7, 8, 9]\n",
      "\n",
      "Matrix 2:\n",
      "[9, 8, 7]\n",
      "[6, 5, 4]\n",
      "[3, 2, 1]\n",
      "\n",
      "Result:\n",
      "[11 10 10]\n",
      "[10 10 10]\n",
      "[10 10 10]\n"
     ]
    }
   ],
   "source": [
    "import numpy as np\n",
    "\n",
    "def numberOne(matrix1, matrix2):\n",
    "    matrix1 = np.array(matrix1)\n",
    "    matrix2 = np.array(matrix2)\n",
    "\n",
    "    # Check if the matrices have the same dimensions\n",
    "    if matrix1.shape != matrix2.shape:\n",
    "        raise ValueError(\"Matrices must have the same dimensions for addition.\")\n",
    "\n",
    "    result = matrix1 + matrix2\n",
    "\n",
    "    step_operations = [f\"matrix1 + matrix2:\\n{result}\"]\n",
    "\n",
    "    return result, step_operations\n",
    "    \n",
    "matrix1 = [[2, 2, 3], [4, 5, 6], [7, 8, 9]]\n",
    "matrix2 = [[9, 8, 7], [6, 5, 4], [3, 2, 1]]\n",
    "\n",
    "result, step_operations = numberOne(matrix1, matrix2)\n",
    "\n",
    "# Print the original matrices\n",
    "print(\"Matrix 1:\")\n",
    "for row in matrix1:\n",
    "    print(row)\n",
    "\n",
    "print(\"\\nMatrix 2:\")\n",
    "for row in matrix2:\n",
    "    print(row)\n",
    "\n",
    "# Print the result matrix\n",
    "print(\"\\nResult:\")\n",
    "for row in result:\n",
    "    print(row)"
   ]
  },
  {
   "cell_type": "code",
   "execution_count": 2,
   "id": "e5d9da46-6e33-4f69-a6bb-32ce801ce5d2",
   "metadata": {},
   "outputs": [
    {
     "name": "stdout",
     "output_type": "stream",
     "text": [
      "Matrix 1:\n",
      "[2, 2, 3]\n",
      "[4, 5, 6]\n",
      "[7, 8, 9]\n",
      "\n",
      "Matrix 2:\n",
      "[9, 8, 7]\n",
      "[6, 5, 4]\n",
      "[3, 2, 1]\n",
      "\n",
      "Result:\n",
      "[39 32 25]\n",
      "[84 69 54]\n",
      "[138 114  90]\n"
     ]
    }
   ],
   "source": [
    "def numberTwo(matrix1, matrix2):\n",
    "    matrix1 = np.array(matrix1)\n",
    "    matrix2 = np.array(matrix2)\n",
    "\n",
    "    if matrix1.shape[1] != matrix2.shape[0]:\n",
    "        raise ValueError(\"The number of columns in matrix1 must be equal to the number of rows in matrix2 for multiplication.\")\n",
    "\n",
    "    result = np.dot(matrix1, matrix2)\n",
    "\n",
    "    step_operations = [f\"matrix1.dot(matrix2):\\n{result}\"]\n",
    "\n",
    "    return result, step_operations\n",
    "\n",
    "matrix1 = [[2, 2, 3], [4, 5, 6], [7, 8, 9]]\n",
    "matrix2 = [[9, 8, 7], [6, 5, 4], [3, 2, 1]]\n",
    "\n",
    "result, step_operations = numberTwo(matrix1, matrix2)\n",
    "\n",
    "# Print the original matrices\n",
    "print(\"Matrix 1:\")\n",
    "for row in matrix1:\n",
    "    print(row)\n",
    "\n",
    "print(\"\\nMatrix 2:\")\n",
    "for row in matrix2:\n",
    "    print(row)\n",
    "\n",
    "# Print the result matrix\n",
    "print(\"\\nResult:\")\n",
    "for row in result:\n",
    "    print(row)"
   ]
  },
  {
   "cell_type": "code",
   "execution_count": 5,
   "id": "0b395d34-b350-4cd5-8fb8-5f328a1ce85a",
   "metadata": {},
   "outputs": [
    {
     "name": "stdout",
     "output_type": "stream",
     "text": [
      "Matrix 1:\n",
      "[2, 2, 3]\n",
      "[4, 5, 6]\n",
      "[7, 8, 9]\n",
      "\n",
      "Matrix 2:\n",
      "[9, 8, 7]\n",
      "[6, 5, 4]\n",
      "[3, 2, 1]\n",
      "\n",
      "Result:\n",
      "[11 10 10]\n",
      "[10 10 10]\n",
      "[10 10 10]\n"
     ]
    }
   ],
   "source": [
    "def numberThreeAddition(matrix1, matrix2):\n",
    "    matrix1 = np.array(matrix1)\n",
    "    matrix2 = np.array(matrix2)\n",
    "\n",
    "    if matrix1.shape != matrix2.shape:\n",
    "        raise ValueError(\"Matrices must have the same dimensions.\")\n",
    "\n",
    "    result = matrix1 + matrix2\n",
    "\n",
    "    return result\n",
    "    \n",
    "matrix1 = [[2, 2, 3], [4, 5, 6], [7, 8, 9]]\n",
    "matrix2 = [[9, 8, 7], [6, 5, 4], [3, 2, 1]]\n",
    "\n",
    "result = numberThreeAddition(matrix1, matrix2)\n",
    "\n",
    "# Print the original matrices\n",
    "print(\"Matrix 1:\")\n",
    "for row in matrix1:\n",
    "    print(row)\n",
    "\n",
    "print(\"\\nMatrix 2:\")\n",
    "for row in matrix2:\n",
    "    print(row)\n",
    "\n",
    "# Print the result matrix\n",
    "print(\"\\nResult:\")\n",
    "for row in result:\n",
    "    print(row)"
   ]
  },
  {
   "cell_type": "code",
   "execution_count": 2,
   "id": "cd6dfeeb-7101-4d1b-9d04-8f9d82aaea2d",
   "metadata": {},
   "outputs": [],
   "source": [
    "def numberThreeAddition(matrix1, matrix2):\n",
    "    matrix1 = np.array(matrix1)\n",
    "    matrix2 = np.array(matrix2)\n",
    "\n",
    "    if matrix1.shape != matrix2.shape:\n",
    "        raise ValueError(\"Matrices must have the same dimensions.\")\n",
    "\n",
    "    result = matrix1 + matrix2\n",
    "\n",
    "    return result\n",
    "\n",
    "def numberThreeScalar(scalar, matrix):\n",
    "    matrix = np.array(matrix)\n",
    "\n",
    "    result = scalar * matrix\n",
    "\n",
    "    return result"
   ]
  },
  {
   "cell_type": "code",
   "execution_count": 3,
   "id": "a5af274d-7fdf-46a9-a05b-86f94b7942ce",
   "metadata": {},
   "outputs": [
    {
     "name": "stdout",
     "output_type": "stream",
     "text": [
      "kA + kB:\n",
      "[12 16]\n",
      "[20 24]\n",
      "\n",
      "k(A + B):\n",
      "[12 16]\n",
      "[20 24]\n",
      "\n",
      "Equation: k(A + B) = kA + kB\n"
     ]
    }
   ],
   "source": [
    "from Assignment3 import numberThreeAddition\n",
    "from Assignment3 import numberThreeScalar\n",
    "\n",
    "matrix_A = [[1, 2], [3, 4]]\n",
    "matrix_B = [[5, 6], [7, 8]]\n",
    "\n",
    "# Scalar value k\n",
    "k = 2\n",
    "\n",
    "# Demonstrating k(A + B) = kA + kB\n",
    "result_k_times_A_plus_B = numberThreeScalar(k, numberThreeAddition(matrix_A, matrix_B))\n",
    "result_kA_plus_kB = numberThreeAddition(numberThreeScalar(k, matrix_A), numberThreeScalar(k, matrix_B))\n",
    "\n",
    "\n",
    "\n",
    "print(\"kA + kB:\")\n",
    "for row in result_kA_plus_kB:\n",
    "    print(row)\n",
    "    \n",
    "print(\"\\nk(A + B):\")\n",
    "for row in result_k_times_A_plus_B:\n",
    "    print(row)\n",
    "    \n",
    "print(\"\\nEquation: k(A + B) = kA + kB\")"
   ]
  },
  {
   "cell_type": "code",
   "execution_count": 5,
   "id": "fb4bdf22-43cf-47ce-8ce2-b8a068bf2eee",
   "metadata": {},
   "outputs": [],
   "source": [
    "def numberFour(matrix):\n",
    "    matrix = np.array(matrix)\n",
    "\n",
    "    if not matrix.size:\n",
    "        return []\n",
    "\n",
    "    # Check if the matrix is square (equal number of rows and columns)\n",
    "    if matrix.shape[0] != matrix.shape[1]:\n",
    "        raise ValueError(\"Matrix must be square to extract the diagonal.\")\n",
    "\n",
    "    diagonal = np.diagonal(matrix)\n",
    "\n",
    "    return diagonal"
   ]
  },
  {
   "cell_type": "code",
   "execution_count": 6,
   "id": "8a019b55-4eaf-47a3-83e2-cde59aa1cbcd",
   "metadata": {},
   "outputs": [
    {
     "name": "stdout",
     "output_type": "stream",
     "text": [
      "Original Matrix:\n",
      "1 2 3\n",
      "4 5 6\n",
      "7 8 9\n",
      "\n",
      "Diagonal elements: [1 5 9]\n"
     ]
    }
   ],
   "source": [
    "from Assignment3 import numberFour\n",
    "matrix = [[1, 2, 3], [4, 5, 6], [7, 8, 9]]\n",
    "\n",
    "print(\"Original Matrix:\")\n",
    "for row in matrix:\n",
    "    print(\" \".join(map(str, row)))\n",
    "\n",
    "result = numberFour(matrix)\n",
    "\n",
    "print(\"\\nDiagonal elements:\", result)"
   ]
  },
  {
   "cell_type": "code",
   "execution_count": 7,
   "id": "99ca2f36-5e30-4fd7-bc8f-ffc03db22285",
   "metadata": {},
   "outputs": [],
   "source": [
    "def numberFive(matrix):\n",
    "    matrix = np.array(matrix)\n",
    "\n",
    "    if not matrix.size:\n",
    "        return 0\n",
    "\n",
    "    # Check if the matrix is square (equal number of rows and columns)\n",
    "    if matrix.shape[0] != matrix.shape[1]:\n",
    "        raise ValueError(\"Matrix must be square to calculate the trace.\")\n",
    "\n",
    "    trace = np.trace(matrix)\n",
    "\n",
    "    return trace"
   ]
  },
  {
   "cell_type": "code",
   "execution_count": 8,
   "id": "7799f14f-da70-4971-8821-27def5979419",
   "metadata": {},
   "outputs": [
    {
     "name": "stdout",
     "output_type": "stream",
     "text": [
      "Matrix:\n",
      "1 2 3\n",
      "4 5 6\n",
      "7 8 9\n",
      "\n",
      "Addition of diagonal elements: 1 + 5 + 9 = 15\n",
      "Trace of the matrix: 15\n"
     ]
    }
   ],
   "source": [
    "from Assignment3 import numberFive\n",
    "\n",
    "matrix = [[1, 2, 3], [4, 5, 6], [7, 8, 9]]\n",
    "print(\"Matrix:\")\n",
    "for row in matrix:\n",
    "    print(\" \".join(map(str, row)))\n",
    "addition_of_diagonal = sum(matrix[i][i] for i in range(len(matrix)))\n",
    "print(\"\\nAddition of diagonal elements:\", \" + \".join(str(matrix[i][i]) for i in range(len(matrix))) + \" = \" + str(addition_of_diagonal))\n",
    "result = numberFive(matrix)\n",
    "print(\"Trace of the matrix:\", result)"
   ]
  },
  {
   "cell_type": "markdown",
   "id": "94a3428e",
   "metadata": {},
   "source": [
    "# <font color=red> Problem Solving </font>\n",
    "---\n",
    "Instructions\n",
    "1. Write your solution in latex.\n",
    "2. Push your solutions to your github account.\n",
    "3. Deadline is before finals.\n",
    "---\n",
    "1. Solve $X$ given that:\n",
    "\\begin{equation}\n",
    "A =\n",
    "\\begin{bmatrix}\n",
    "1 & 2 \\\\\n",
    "3 & 4 \\\\\n",
    "\\end{bmatrix},\n",
    "B =\n",
    "\\begin{bmatrix}\n",
    "-1 & 0 \\\\\n",
    "1 & 1 \\\\\n",
    "\\end{bmatrix}\n",
    "\\end{equation}\n",
    "- $3X = A-2B$\n",
    "- $2(A-B+2X) = 3(X-B)$\n",
    "<br>\n",
    "<br>"
   ]
  },
  {
   "cell_type": "markdown",
   "id": "7bc01638",
   "metadata": {},
   "source": [
    "Solve for X in the equation $3X = A-2B$:"
   ]
  },
  {
   "cell_type": "markdown",
   "id": "26c2c2ad",
   "metadata": {},
   "source": [
    " \\\n",
    "     2B = \\begin{bmatrix} -2 & 0 \\\\ 2 & 2 \\end{bmatrix}\n",
    "     "
   ]
  },
  {
   "cell_type": "markdown",
   "id": "292495cb",
   "metadata": {},
   "source": [
    "\\\n",
    "     A - 2B =\n",
    "     \\begin{bmatrix}\n",
    "     3 & 2 \\\\\n",
    "     1 & 2 \\\\\n",
    "     \\end{bmatrix}\n",
    "     "
   ]
  },
  {
   "cell_type": "markdown",
   "id": "d31c7a17",
   "metadata": {},
   "source": [
    " \\\n",
    "    X =\n",
    "     \\begin{equation}\n",
    "      \\frac{1}{3} \\times\n",
    "     \\begin {bmatrix} \n",
    "     3 & 2 \\\\\n",
    "     1 & 2 \\\\\n",
    "     \\end{bmatrix}\n",
    "     =\n",
    "     \\begin{bmatrix}\n",
    "     1 & \\frac{2}{3} \\\\\n",
    "     \\frac{1}{3} & \\frac{2}{3} \\\\\n",
    "     \\end{bmatrix}\n",
    "     \\end{equation}\n",
    "     "
   ]
  },
  {
   "cell_type": "markdown",
   "id": "d367c99e",
   "metadata": {},
   "source": [
    " \\\n",
    "     Final Answer =\n",
    "     \\begin{equation}\n",
    "      X = \n",
    "     \\begin{bmatrix}\n",
    "     1 & \\frac{2}{3} \\\\\n",
    "     \\frac{1}{3} & \\frac{2}{3} \\\\\n",
    "     \\end{bmatrix}\n",
    "     \\end{equation}\n",
    "     "
   ]
  },
  {
   "cell_type": "code",
   "execution_count": 6,
   "id": "bc17ac63",
   "metadata": {},
   "outputs": [
    {
     "name": "stdout",
     "output_type": "stream",
     "text": [
      "result = [[1.         0.66666667]\n",
      " [0.33333333 0.66666667]]\n"
     ]
    }
   ],
   "source": [
    "# Python Solution\n",
    "import numpy as np\n",
    "\n",
    "A = np.array([[1, 2], [3, 4]])\n",
    "B = np.array([[-1, 0], [1, 1]])\n",
    "\n",
    "result = A - 2 * B\n",
    "\n",
    "result = result / 3\n",
    "\n",
    "print(\"result =\",result)"
   ]
  },
  {
   "cell_type": "markdown",
   "id": "80b300fc",
   "metadata": {},
   "source": [
    "Solve for X in the equation 2(A-B+2X) = 3(X-B):\n",
    "\n"
   ]
  },
  {
   "cell_type": "markdown",
   "id": "04981153",
   "metadata": {},
   "source": [
    "Distributing the scalars:"
   ]
  },
  {
   "cell_type": "markdown",
   "id": "446259bf",
   "metadata": {},
   "source": [
    "2A - 2B + 4X = 3X - 3B\n",
    "2A + X = -B\n",
    "X = -B - 2A"
   ]
  },
  {
   "cell_type": "markdown",
   "id": "e7929342",
   "metadata": {},
   "source": [
    "Substitute:"
   ]
  },
  {
   "cell_type": "markdown",
   "id": "fac8b97b",
   "metadata": {},
   "source": [
    " \\\n",
    "     -2A = \\begin{bmatrix} -2 & 4 \\\\ 6 & 8 \\end{bmatrix}"
   ]
  },
  {
   "cell_type": "markdown",
   "id": "32469556",
   "metadata": {},
   "source": [
    " \\\n",
    "     -B = \\begin{bmatrix} 1 & 0 \\\\ -1 & -1 \\end{bmatrix}"
   ]
  },
  {
   "cell_type": "markdown",
   "id": "23db26a6",
   "metadata": {},
   "source": [
    " \\\n",
    "     -B - 2A = \\begin{bmatrix} -1 & -4 \\\\ -7 & -9 \\end{bmatrix}"
   ]
  },
  {
   "cell_type": "markdown",
   "id": "3c6edb4b",
   "metadata": {},
   "source": [
    " \\\n",
    "     Final Answer =\n",
    "     \\begin{equation}\n",
    "      X = \n",
    "     \\begin{bmatrix}\n",
    "     -1 & -4 \\\\\n",
    "     -7 & -9 \\\\\n",
    "     \\end{bmatrix}\n",
    "     \\end{equation}\n",
    "     "
   ]
  },
  {
   "cell_type": "code",
   "execution_count": 7,
   "id": "a77d958e",
   "metadata": {},
   "outputs": [
    {
     "name": "stdout",
     "output_type": "stream",
     "text": [
      "result = [[-1 -4]\n",
      " [-7 -9]]\n"
     ]
    }
   ],
   "source": [
    "import numpy as np\n",
    "\n",
    "A = np.array([[1, 2], [3, 4]])\n",
    "B = np.array([[-1, 0], [1, 1]])\n",
    "\n",
    "\n",
    "x = 2 * B - 2 * A - 3 * B\n",
    "\n",
    "print(\"result =\",x)"
   ]
  },
  {
   "cell_type": "markdown",
   "id": "569dfce5",
   "metadata": {},
   "source": [
    "2. Write B as a linear combination of the other matrices, if possible.\n",
    "- \n",
    "\\begin{equation}\n",
    "A_1 =\n",
    "\\begin{bmatrix}\n",
    "1 & 2 \\\\\n",
    "-1 & 1 \\\\\n",
    "\\end{bmatrix},\n",
    "A_2 =\n",
    "\\begin{bmatrix}\n",
    "0 & 1 \\\\\n",
    "2 & 1 \\\\\n",
    "\\end{bmatrix},\n",
    "B =\n",
    "\\begin{bmatrix}\n",
    "2 & 5 \\\\\n",
    "0 & 3 \\\\\n",
    "\\end{bmatrix}\n",
    "\\end{equation}\n",
    "<br><br>\n",
    "- \n",
    "\\begin{equation}\n",
    "A_1 =\n",
    "\\begin{bmatrix}\n",
    "1 & 0 \\\\\n",
    "0 & 1 \\\\\n",
    "\\end{bmatrix},\n",
    "A_2 =\n",
    "\\begin{bmatrix}\n",
    "0 & 1 \\\\\n",
    "1 & 0 \\\\\n",
    "\\end{bmatrix},\n",
    "A_3 =\n",
    "\\begin{bmatrix}\n",
    "1 & -1 \\\\\n",
    "1 & 1 \\\\\n",
    "\\end{bmatrix},\n",
    "B =\n",
    "\\begin{bmatrix}\n",
    "2 & 5 \\\\\n",
    "0 & 3 \\\\\n",
    "\\end{bmatrix}\n",
    "\\end{equation}\n",
    "<br>\n",
    "<br>"
   ]
  },
  {
   "cell_type": "markdown",
   "id": "8340dfd5",
   "metadata": {},
   "source": [
    "$$\n",
    "B = c_1A_1 + c_2A_2\n",
    "$$\n",
    "\n",
    "Solving for $c_1$ and $c_2$ via systems of linear equations:\n",
    "\n",
    "$$\n",
    "\\begin{align*}\n",
    "2 &= c_1 \\cdot 1 + c_2 \\cdot 0 \\\\\n",
    "5 &= c_1 \\cdot 2 + c_2 \\cdot 1 \\\\\n",
    "0 &= c_1 \\cdot (-1) + c_2 \\cdot 2 \\\\\n",
    "3 &= c_1 \\cdot 1 + c_2 \\cdot 1\n",
    "\\end{align*}\n",
    "$$\n",
    "\n",
    "Solving for $c_1$:\n",
    "\n",
    "$$\n",
    "\\begin{align*}\n",
    "2 &= c_1 \\quad \\Rightarrow \\quad c_1 = 2\n",
    "\\end{align*}\n",
    "$$\n",
    "\n",
    "Solving for $c_2$:\n",
    "\n",
    "$$\n",
    "\\begin{align*}\n",
    "5 &= 2c_1 + c_2 = 2 \\cdot 2 + c_2 \\quad \\Rightarrow \\quad c_2 = -4\n",
    "\\end{align*}\n",
    "$$\n",
    "\n",
    "So, $\\boxed{c_1 = 2,\\ c_2 = -4}$, and we have:\n",
    "\n",
    "$$\n",
    "B = 2A_1 - 4A_2\n",
    "$$\n"
   ]
  },
  {
   "cell_type": "markdown",
   "id": "5813087a",
   "metadata": {},
   "source": [
    "3. Given the following:\n",
    "\\begin{equation}\n",
    "A =\n",
    "\\begin{bmatrix}\n",
    "1 & 2 \\\\\n",
    "2 & 6 \\\\\n",
    "\\end{bmatrix},\n",
    "b_1 =\n",
    "\\begin{bmatrix}\n",
    "3 \\\\\n",
    "5 \\\\\n",
    "\\end{bmatrix},\n",
    "b_2 =\n",
    "\\begin{bmatrix}\n",
    "-1 \\\\\n",
    "2 \\\\\n",
    "\\end{bmatrix},\n",
    "b_3 =\n",
    "\\begin{bmatrix}\n",
    "2 \\\\\n",
    "0 \\\\\n",
    "\\end{bmatrix}\n",
    "\\end{equation}\n",
    "- Find $A^{-1}$, and use this to solve for $Ax=b_1,Ax=b_2,Ax=b_3$\n",
    "- Solve all three linear systems by row reducing the augmented matrix:\n",
    "\\begin{equation}\n",
    "\\begin{bmatrix}\n",
    "\\begin{array}{c|ccc}\n",
    "A &\n",
    "b_1 &\n",
    "b_2 &\n",
    "b_3 \\\\\n",
    "\\end{array}\n",
    "\\end{bmatrix}\n",
    "\\end{equation}"
   ]
  },
  {
   "cell_type": "markdown",
   "id": "3b678fa9",
   "metadata": {},
   "source": [
    "$A^{-1} = (\\frac{1}{det(A)}) * \n",
    "\\begin{bmatrix}\n",
    "d & -b \\\\\n",
    "-c & a \\\\\n",
    "\\end{bmatrix} \\\\\n",
    "det(A) = (1 * 6) - (2 * 2) = 6 - 4 = 2 \\\\\n",
    "A^{-1} = (\\frac{1}{2}) * \n",
    "\\begin{bmatrix}\n",
    "6 & -2 \\\\\n",
    "-2 & 1 \\\\\n",
    "\\end{bmatrix}\n",
    "=\n",
    "\\begin{bmatrix}\n",
    "3 & -1 \\\\\n",
    "-1 & \\frac{1}{2} \\\\\n",
    "\\end{bmatrix} \\\\\n",
    "A | b_1 = \\begin{bmatrix}\\begin{array}{cc|c}\n",
    "1 & 2 & 3 \\\\\n",
    "2 & 6 & 5 \\\\\n",
    "\\end{array}\\end{bmatrix}\n",
    "\\xrightarrow{\\text{R}_{2}-2\\text{R}_{1}} \n",
    "\\begin{bmatrix}\\begin{array}{cc|c}\n",
    "1 & 2 & 3 \\\\\n",
    "0 & 2 & -1 \\\\\n",
    "\\end{array}\\end{bmatrix}\n",
    "\\xrightarrow{\\frac{1}{2}R_2}\n",
    "\\begin{bmatrix}\\begin{array}{cc|c}\n",
    "1 & 2 & 3 \\\\\n",
    "0 & 1 & -0.5 \\\\\n",
    "\\end{array}\\end{bmatrix}\n",
    "\\xrightarrow{\\text{R}_{1}-2\\text{R}_{2}} \n",
    "\\begin{bmatrix}\\begin{array}{cc|c}\n",
    "1 & 0 & 4 \\\\\n",
    "0 & 1 & -0.5 \\\\\n",
    "\\end{array}\\end{bmatrix} \\\\\n",
    "\\boxed{A | b_1: x_1 = 4, x_2 = -0.5} \\\\\n",
    "A | b_2 = \\begin{bmatrix}\\begin{array}{cc|c}\n",
    "1 & 2 & -1 \\\\\n",
    "2 & 6 & 2 \\\\\n",
    "\\end{array}\\end{bmatrix}\n",
    "\\xrightarrow{\\text{R}_{2}-2\\text{R}_{1}} \n",
    "\\begin{bmatrix}\\begin{array}{cc|c}\n",
    "1 & 2 & -1 \\\\\n",
    "0 & 2 & 4 \\\\\n",
    "\\end{array}\\end{bmatrix}\n",
    "\\xrightarrow{\\frac{1}{2}R_2}\n",
    "\\begin{bmatrix}\\begin{array}{cc|c}\n",
    "1 & 2 & -1 \\\\\n",
    "0 & 1 & 2 \\\\\n",
    "\\end{array}\\end{bmatrix}\n",
    "\\xrightarrow{\\text{R}_{1}-2\\text{R}_{2}} \n",
    "\\begin{bmatrix}\\begin{array}{cc|c}\n",
    "1 & 0 & -5 \\\\\n",
    "0 & 1 & 2 \\\\\n",
    "\\end{array}\\end{bmatrix} \\\\\n",
    "\\boxed{A | b_2: x_1 = -5, x_2 = 2} \\\\\n",
    "A | b_3 = \\begin{bmatrix}\\begin{array}{cc|c}\n",
    "1 & 2 & 2 \\\\\n",
    "2 & 6 & 0 \\\\\n",
    "\\end{array}\\end{bmatrix}\n",
    "\\xrightarrow{\\text{R}_{2}-2\\text{R}_{1}} \n",
    "\\begin{bmatrix}\\begin{array}{cc|c}\n",
    "1 & 2 & 2 \\\\\n",
    "0 & 2 & -4 \\\\\n",
    "\\end{array}\\end{bmatrix}\n",
    "\\xrightarrow{\\frac{1}{2}R_2}\n",
    "\\begin{bmatrix}\\begin{array}{cc|c}\n",
    "1 & 2 & 2 \\\\\n",
    "0 & 1 & -2 \\\\\n",
    "\\end{array}\\end{bmatrix}\n",
    "\\xrightarrow{\\text{R}_{1}-2\\text{R}_{2}} \n",
    "\\begin{bmatrix}\\begin{array}{cc|c}\n",
    "1 & 0 & 6 \\\\\n",
    "0 & 1 & -2 \\\\\n",
    "\\end{array}\\end{bmatrix} \\\\\n",
    "\\boxed{A | b_3: x_1 = 6, x_2 = -2} \\\\\n",
    "$"
   ]
  },
  {
   "cell_type": "markdown",
   "id": "3a22ee1c",
   "metadata": {},
   "source": [
    "4. In each given, determine if $b$ is in $col(A)$, and $w$ is in $row(A)$\n",
    "- \n",
    "\\begin{equation}\n",
    "A =\n",
    "\\begin{bmatrix}\n",
    "1 & 0 & -1 \\\\\n",
    "1 & 1 & 1 \\\\\n",
    "\\end{bmatrix},\n",
    "b =\n",
    "\\begin{bmatrix}\n",
    "3 \\\\\n",
    "2 \\\\\n",
    "\\end{bmatrix},\n",
    "w =\n",
    "\\begin{bmatrix}\n",
    "-1 &\n",
    "1 &\n",
    "1\n",
    "\\end{bmatrix},\n",
    "\\end{equation}"
   ]
  },
  {
   "cell_type": "markdown",
   "id": "268a4847",
   "metadata": {},
   "source": [
    "\\begin{align*}\n",
    "Ax &= b \\\\\n",
    "\\Rightarrow \\quad \\begin{bmatrix}\n",
    "1 & 1 & -1 \\\\\n",
    "1 & 3 & 0 \\\\\n",
    "3 & -1 & -5\n",
    "\\end{bmatrix}\n",
    "\\begin{bmatrix}\n",
    "x_1 \\\\\n",
    "x_2 \\\\\n",
    "x_3\n",
    "\\end{bmatrix}\n",
    "&= \\begin{bmatrix}\n",
    "1 \\\\\n",
    "2 \\\\\n",
    "1\n",
    "\\end{bmatrix} \\\\\n",
    "\\Rightarrow \\quad \\begin{bmatrix}\n",
    "x_1 + x_2 - x_3 &= 1 \\\\\n",
    "x_1 + 3x_2 &= 2 \\\\\n",
    "3x_1 - x_2 - 5x_3 &= 1\n",
    "\\end{bmatrix}\n",
    "\\end{align*}\n",
    "\\begin{align*}\n",
    "\\\\x^T A &= w^T \\\\\n",
    "\\Rightarrow \\qquad\n",
    "\\begin{pmatrix}\n",
    "x_1 \\\\\n",
    "x_2 \\\\\n",
    "x_3\n",
    "\\end{pmatrix}^T\n",
    "\\begin{pmatrix}\n",
    "1 & 1 & -1 \\\\\n",
    "1 & 3 & 0 \\\\\n",
    "3 & -1 & -5\n",
    "\\end{pmatrix}\n",
    "&= \\begin{pmatrix}\n",
    "1 &\n",
    "-3 &\n",
    "-3\n",
    "\\end{pmatrix}^T \\\\\n",
    "\\Rightarrow \\quad \\begin{bmatrix}\n",
    "x_1 + 3x_2 - 5x_3 &= 1 \\\\\n",
    "x_1 + x_2 + x_3 &= -3 \\\\\n",
    "-x_1 - x_2 - 3x_3 &= -3\n",
    "\\end{bmatrix}\n",
    "\\end{align*}\n",
    "vector b is in the column space of A, and vector w is in the row space of A"
   ]
  },
  {
   "cell_type": "markdown",
   "id": "36526356",
   "metadata": {},
   "source": [
    "5. Find the rank and nullity of:\n",
    "\\begin{bmatrix}\n",
    "2 & 4 & 0 & 0 & 1 \\\\\n",
    "6 & 3 & 5 & 1 & 0 \\\\\n",
    "1 & 0 & 2 & 2 & 5 \\\\\n",
    "1 & 1 & 1 & 1 & 1 \\\\\n",
    "\\end{bmatrix},"
   ]
  },
  {
   "cell_type": "markdown",
   "id": "8ea8e85f",
   "metadata": {},
   "source": [
    "$$\n",
    "\\begin{bmatrix}\n",
    "2 & 4 & 0 & 0 & 1 \\\\\n",
    "6 & 3 & 5 & 1 & 0 \\\\\n",
    "1 & 0 & 2 & 2 & 5 \\\\\n",
    "1 & 1 & 1 & 1 & 1 \\\\\n",
    "\\end{bmatrix}\n",
    "\\xrightarrow{\\text{R}_{2}-3\\text{R}_{1}}\n",
    "\\begin{bmatrix}\n",
    "2 & 4 & 0 & 0 & 1 \\\\\n",
    "0 & -9 & 5 & 1 & -3 \\\\\n",
    "1 & 0 & 2 & 2 & 5 \\\\\n",
    "1 & 1 & 1 & 1 & 1 \\\\\n",
    "\\end{bmatrix}\n",
    "\\xrightarrow{\\text{R}_{3}-\\frac{1}{2}R_1}\n",
    "\\begin{bmatrix}\n",
    "2 & 4 & 0 & 0 & 1 \\\\\n",
    "0 & -9 & 5 & 1 & -3 \\\\\n",
    "0 & -2 & 2 & 2 & 4 \\\\\n",
    "1 & 1 & 1 & 1 & 1 \\\\\n",
    "\\end{bmatrix}\n",
    "\\xrightarrow{-\\frac{1}{9}R_2}\n",
    "\\begin{bmatrix}\n",
    "2 & 4 & 0 & 0 & 1 \\\\\n",
    "0 & 1 & -\\frac{5}{9} & -\\frac{1}{9} & \\frac{1}{3} \\\\\n",
    "0 & -2 & 2 & 2 & 4 \\\\\n",
    "0 & 4.5 & -1.5 & 0.5 & 1.5 \\\\\n",
    "\\end{bmatrix}\n",
    "\\xrightarrow{\\text{R}_{3} + 2{R}_{2}, \\ \\text{R}_4 + \\frac{9}{2}R_2}\n",
    "\\begin{bmatrix}\n",
    "2 & 4 & 0 & 0 & 1 \\\\\n",
    "0 & 1 & -\\frac{5}{9} & -\\frac{1}{9} & \\frac{1}{3} \\\\\n",
    "0 & 0 & \\frac{4}{9} & \\frac{4}{9} & \\frac{10}{3} \\\\\n",
    "0 & 0 & 0 & 0 & 0 \\\\\n",
    "\\end{bmatrix}\n",
    "$$\n",
    "\n",
    "\n",
    "$\\text{Rank of the matrix= 3\n",
    "Nullity = 2}$\n"
   ]
  },
  {
   "cell_type": "markdown",
   "id": "67234e66",
   "metadata": {},
   "source": []
  },
  {
   "cell_type": "markdown",
   "id": "bb56f01f",
   "metadata": {},
   "source": []
  },
  {
   "cell_type": "markdown",
   "id": "b85914bf",
   "metadata": {},
   "source": []
  },
  {
   "cell_type": "markdown",
   "id": "9b166539",
   "metadata": {},
   "source": []
  },
  {
   "cell_type": "markdown",
   "id": "9f80a746",
   "metadata": {},
   "source": []
  },
  {
   "cell_type": "markdown",
   "id": "484878eb",
   "metadata": {},
   "source": []
  },
  {
   "cell_type": "code",
   "execution_count": null,
   "id": "1db4be77",
   "metadata": {},
   "outputs": [],
   "source": []
  },
  {
   "cell_type": "code",
   "execution_count": null,
   "id": "c5d4a1c5",
   "metadata": {},
   "outputs": [],
   "source": []
  }
 ],
 "metadata": {
  "kernelspec": {
   "display_name": "Python 3 (ipykernel)",
   "language": "python",
   "name": "python3"
  },
  "language_info": {
   "codemirror_mode": {
    "name": "ipython",
    "version": 3
   },
   "file_extension": ".py",
   "mimetype": "text/x-python",
   "name": "python",
   "nbconvert_exporter": "python",
   "pygments_lexer": "ipython3",
   "version": "3.11.4"
  }
 },
 "nbformat": 4,
 "nbformat_minor": 5
}
