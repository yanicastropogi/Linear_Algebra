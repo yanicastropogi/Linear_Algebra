{
 "cells": [
  {
   "cell_type": "markdown",
   "id": "a8cbfe13",
   "metadata": {},
   "source": [
    "ANSWERS"
   ]
  },
  {
   "cell_type": "markdown",
   "id": "af4b158b",
   "metadata": {},
   "source": [
    "1.) Let u = (1,-2,4) and v = (3,5,1) and w = (2,1,-3) find:"
   ]
  },
  {
   "cell_type": "markdown",
   "id": "122ba5e3",
   "metadata": {},
   "source": [
    "a. 3u - 2v"
   ]
  },
  {
   "cell_type": "markdown",
   "id": "36c92ef0",
   "metadata": {},
   "source": [
    "*Manual Solution*"
   ]
  },
  {
   "cell_type": "markdown",
   "id": "228a28bd",
   "metadata": {},
   "source": [
    "3u - 2v = 3(1,(-2),4) - 2(3,5,1)\n",
    "        = (3, -6, 12) - (6,10,2)\n",
    "3u - 2v = **(-3,-16,10)**"
   ]
  },
  {
   "cell_type": "markdown",
   "id": "2c034fe9",
   "metadata": {},
   "source": [
    "*Pythonic Solution:*"
   ]
  },
  {
   "cell_type": "code",
   "execution_count": 1,
   "id": "ccd98512",
   "metadata": {
    "scrolled": true
   },
   "outputs": [
    {
     "name": "stdout",
     "output_type": "stream",
     "text": [
      "a. 3u + 2v =  [ -3 -16  10]\n"
     ]
    }
   ],
   "source": [
    "import numpy as np\n",
    "\n",
    "u = np.array([1, -2, 4])\n",
    "v = np.array([3, 5, 1])\n",
    "\n",
    "print(\"a. 3u + 2v = \", 3*u - 2*v)"
   ]
  },
  {
   "cell_type": "markdown",
   "id": "4473ee01",
   "metadata": {},
   "source": [
    "b. 5u + 3v - 4w"
   ]
  },
  {
   "cell_type": "markdown",
   "id": "46c564b3",
   "metadata": {},
   "source": [
    "*Manual Solution*"
   ]
  },
  {
   "cell_type": "markdown",
   "id": "fc824d52",
   "metadata": {},
   "source": [
    "5u + 3v - 4w = 5(1,(-2),4) + 3(3,5,1) - 4(2,1,(-3))"
   ]
  },
  {
   "cell_type": "markdown",
   "id": "f178ead7",
   "metadata": {},
   "source": [
    "= (5,(-10),20) + (9,15,3) - (8,4,(-12))"
   ]
  },
  {
   "cell_type": "markdown",
   "id": "c026f5f5",
   "metadata": {},
   "source": [
    "5u + 3v - 4w = **(6,1,35)**"
   ]
  },
  {
   "cell_type": "markdown",
   "id": "35dc063b",
   "metadata": {},
   "source": [
    "*Pythonic Solution*"
   ]
  },
  {
   "cell_type": "code",
   "execution_count": null,
   "id": "8bd2ba0a",
   "metadata": {},
   "outputs": [],
   "source": [
    "import numpy as np\n",
    "\n",
    "u = np.array([1, -2, 4])\n",
    "v = np.array([3, 5, 1])\n",
    "w = np.array([2, 1, -3])\n",
    "\n",
    "print(\"1.b. 5u + 3v - 4w = \", 5*u + 3*v - 4*w)"
   ]
  },
  {
   "cell_type": "markdown",
   "id": "d9d67c55",
   "metadata": {},
   "source": [
    "c. u·v, v·w, u·w"
   ]
  },
  {
   "cell_type": "markdown",
   "id": "02696633",
   "metadata": {},
   "source": [
    "*Manual Solution*"
   ]
  },
  {
   "cell_type": "markdown",
   "id": "01b4c394",
   "metadata": {},
   "source": [
    "u·v = (1)(3) + (-2)(5) + (4)(1)\n",
    "    = 3 + (-10) + 4\n",
    "u·v = **-3**"
   ]
  },
  {
   "cell_type": "markdown",
   "id": "7b260a23",
   "metadata": {},
   "source": [
    "v·w = (3)(2) + (5)(1) + (1)(-3)\n",
    "= 6 + 5 + (-3)\n",
    "v·w = **8**"
   ]
  },
  {
   "cell_type": "markdown",
   "id": "9a86aa04",
   "metadata": {},
   "source": [
    "u·w = (1)(2) + (-2)(1) + (4)(-3)\n",
    "= 2 + (-2) + (-12)\n",
    "u·w = **-12**"
   ]
  },
  {
   "cell_type": "markdown",
   "id": "167f7973",
   "metadata": {},
   "source": [
    "*Pythonic Solution*"
   ]
  },
  {
   "cell_type": "code",
   "execution_count": null,
   "id": "04e69158",
   "metadata": {},
   "outputs": [],
   "source": [
    "import numpy as np\n",
    "\n",
    "u = np.array([1, -2, 4])\n",
    "v = np.array([3, 5, 1])\n",
    "w = np.array([2, 1, -3])\n",
    "\n",
    "print(\"1. c.\")\n",
    "print(\"u.v = \", u.dot(v))\n",
    "print(\"v.w = \", v.dot(w))\n",
    "print(\"u.w = \", u.dot(w))"
   ]
  },
  {
   "cell_type": "markdown",
   "id": "c8c0907d",
   "metadata": {},
   "source": [
    "d. ||u||, ||v||, ||w||"
   ]
  },
  {
   "cell_type": "markdown",
   "id": "86a28db9",
   "metadata": {},
   "source": [
    "*Manual Solution*"
   ]
  },
  {
   "cell_type": "markdown",
   "id": "f873ef4a",
   "metadata": {},
   "source": [
    "||u|| = $$\\sqrt{(1)²+(-2)²+(4)²}$$ \\\n",
    "      = $$\\sqrt{1+4+16}$$ \\\n",
    "||u|| = $$\\sqrt{21}$$"
   ]
  },
  {
   "cell_type": "markdown",
   "id": "751924d6",
   "metadata": {},
   "source": [
    "||v|| = $$\\sqrt{(3)²+(5)²+(1)²}$$\n",
    "      = $$\\sqrt{9+25+1}$$\n",
    "||v|| = $$\\sqrt{35}$$"
   ]
  },
  {
   "cell_type": "markdown",
   "id": "9e868640",
   "metadata": {},
   "source": [
    "||w|| = $$\\sqrt{(2)²+(1)²+(-3)²}$$\n",
    "      = $$\\sqrt{4+1+9}$$\n",
    "||w|| = $$\\sqrt{14}$$"
   ]
  },
  {
   "cell_type": "markdown",
   "id": "0cfe738a",
   "metadata": {},
   "source": [
    "*Pythonic Solution*"
   ]
  },
  {
   "cell_type": "code",
   "execution_count": null,
   "id": "5acb92a1",
   "metadata": {},
   "outputs": [],
   "source": [
    "import numpy as np\n",
    "\n",
    "u = np.array([1, -2, 4])\n",
    "v = np.array([3, 5, 1])\n",
    "w = np.array([2, 1, -3])\n",
    "\n",
    "print(\"1. d.\")\n",
    "print(\"||u|| = \", np.sqrt(u.dot(u)))\n",
    "print(\"||u|| = \", np.sqrt(21))\n",
    "print()\n",
    "print(\"||v|| = \", np.sqrt(v.dot(v)))\n",
    "print(\"||v|| = \", np.sqrt(35))\n",
    "print()\n",
    "print(\"||w|| = \", np.sqrt(w.dot(w)))\n",
    "print(\"||w|| = \", np.sqrt(14))"
   ]
  },
  {
   "cell_type": "markdown",
   "id": "623454bf",
   "metadata": {},
   "source": [
    "e. if $\\theta$ is the angle between u and v, find $\\cos{\\theta}$."
   ]
  },
  {
   "cell_type": "markdown",
   "id": "7294ac99",
   "metadata": {},
   "source": [
    "*Manual Solution*"
   ]
  },
  {
   "cell_type": "markdown",
   "id": "f2ed2ded",
   "metadata": {},
   "source": [
    "$\\cos{\\theta}$ = $\\frac{u·v}{||u|| ||v||}$\n",
    "= $\\frac{(1)(3) + (-2)(5) + (4)(1)}{\\sqrt{1^2 + (-2)^2 + 4^2} \\sqrt{3^2 + 5^2 + 1^2}}$\n",
    "= $\\frac{3 + (-10) + 4}{\\sqrt{1+4+16} \\sqrt{(3)²+(5)²+(1)²}}$"
   ]
  },
  {
   "cell_type": "markdown",
   "id": "5c92421b",
   "metadata": {},
   "source": [
    "$\\cos{\\theta} = \\frac{-3}{\\sqrt{21} \\sqrt{35}}$"
   ]
  },
  {
   "cell_type": "markdown",
   "id": "98e1a6db",
   "metadata": {},
   "source": [
    "*Pythonic Solution*"
   ]
  },
  {
   "cell_type": "code",
   "execution_count": null,
   "id": "f2525b86",
   "metadata": {},
   "outputs": [],
   "source": [
    "import numpy as np\n",
    "\n",
    "u = np.array([1, -2, 4])\n",
    "v = np.array([3, 5, 1])\n",
    "\n",
    "print(\"1. e.\")\n",
    "print(\"angle = \", u.dot(v) / (np.linalg.norm(u)*np.linalg.norm(v)))\n",
    "print(\"angle = \", (-3) / (np.sqrt(21)*np.sqrt(35)))"
   ]
  },
  {
   "cell_type": "markdown",
   "id": "e717deff",
   "metadata": {},
   "source": [
    "f. if $\\alpha$ is the angle between v and w, find $\\cos{\\alpha}$"
   ]
  },
  {
   "cell_type": "markdown",
   "id": "84463e26",
   "metadata": {},
   "source": [
    "*Manual Solution*"
   ]
  },
  {
   "cell_type": "markdown",
   "id": "48dd4c2e",
   "metadata": {},
   "source": [
    "$\\cos(\\alpha)$ = $\\frac{v·w}{||v|| \\ ||w||}$\n",
    "= $\\frac{(3)(2) + (5)(1) + (1)(-3)}{\\sqrt{3^2 + 5^2 + 1^2} \\sqrt{2^2 + 1^2 + (-3)^2}}$\n",
    "= $\\frac{6 + 5 + (-3)}{\\sqrt{9 + 25 + 1} \\sqrt{4 + 1 + 9}}$"
   ]
  },
  {
   "cell_type": "markdown",
   "id": "bde62d74",
   "metadata": {},
   "source": [
    "$\\cos(\\alpha)$ = $\\frac{8}{\\sqrt{35} \\sqrt{14}}$"
   ]
  },
  {
   "cell_type": "markdown",
   "id": "ee8ff578",
   "metadata": {},
   "source": [
    "*Pythonic Solution*"
   ]
  },
  {
   "cell_type": "code",
   "execution_count": null,
   "id": "5effb45d",
   "metadata": {},
   "outputs": [],
   "source": [
    "import numpy as np\n",
    "\n",
    "v = np.array([3, 5, 1])\n",
    "w = np.array([2, 1, -3])\n",
    "\n",
    "print(\"1. f.\")\n",
    "print(\"angle = \", v.dot(w) / (np.linalg.norm(v)*np.linalg.norm(w)))\n",
    "print(\"angle = \", 8 / (np.sqrt(35)*np.sqrt(14)))"
   ]
  },
  {
   "cell_type": "markdown",
   "id": "f6dfddce",
   "metadata": {},
   "source": [
    "g. if $\\beta$ is the angle between u and w, find $\\cos{\\beta}$"
   ]
  },
  {
   "cell_type": "markdown",
   "id": "cf0aeebe",
   "metadata": {},
   "source": [
    "*Manual Solution*"
   ]
  },
  {
   "cell_type": "markdown",
   "id": "fc3f4670",
   "metadata": {},
   "source": [
    "$\\beta$ = $\\frac{u·w}{||u|| \\ ||w||}$\n",
    "= $\\frac{(1)(2) + (-2)(1) + (4)(-3)}{\\sqrt{1^2 + (-2)^2 + 4^2} \\sqrt{2^2 + 1^2 + (-3)^2}}$\n",
    "= $\\frac{2 + (-2) + (-12)}{\\sqrt{1 + 4 + 16} \\sqrt{4 + 1 + 9}}$"
   ]
  },
  {
   "cell_type": "markdown",
   "id": "95cfeed4",
   "metadata": {},
   "source": [
    "$\\beta$ = $\\frac{-12}{\\sqrt{21} \\sqrt{14}}$"
   ]
  },
  {
   "cell_type": "markdown",
   "id": "16a619b2",
   "metadata": {},
   "source": [
    "*Pythonic Solution*"
   ]
  },
  {
   "cell_type": "code",
   "execution_count": 21,
   "id": "eb6d71a6",
   "metadata": {},
   "outputs": [
    {
     "name": "stdout",
     "output_type": "stream",
     "text": [
      "1. g.\n",
      "angle =  -0.6998542122237653\n",
      "angle =  -0.6998542122237653\n"
     ]
    }
   ],
   "source": [
    "import numpy as np\n",
    "\n",
    "u = np.array([1, -2, 4])\n",
    "w = np.array([2, 1, -3])\n",
    "\n",
    "print(\"1. g.\")\n",
    "print(\"angle = \", u.dot(w) / (np.linalg.norm(u)*np.linalg.norm(w)))\n",
    "print(\"angle = \", (-12) / (np.sqrt(21)*np.sqrt(14)))"
   ]
  },
  {
   "cell_type": "markdown",
   "id": "e800f9e9",
   "metadata": {},
   "source": [
    "h. find $d({u},{v})$"
   ]
  },
  {
   "cell_type": "markdown",
   "id": "3963ac4e",
   "metadata": {},
   "source": [
    "*Manual Solution*"
   ]
  },
  {
   "cell_type": "markdown",
   "id": "b49e3fd4",
   "metadata": {},
   "source": [
    "$d({u},{v})$ =||u|| ||v|| \\\n",
    "= $\\sqrt{(1-3)^2 + ((-2)- 5)^2 + (4 - 1)^2}$ \\\n",
    "= $\\sqrt{(-2)^2 + (-7)^2 + (3)^2}$ \\\n",
    "= $\\sqrt{4 + 49 + 9}$ \\\n",
    "$d({u},{v})$ = $\\sqrt{62}$"
   ]
  },
  {
   "cell_type": "markdown",
   "id": "ced5f092",
   "metadata": {},
   "source": [
    "*Pythonic Solution*"
   ]
  },
  {
   "cell_type": "code",
   "execution_count": 20,
   "id": "7ee9a5f9",
   "metadata": {},
   "outputs": [
    {
     "name": "stdout",
     "output_type": "stream",
     "text": [
      "1. h.\n",
      "d(u, v) =  7.874007874011811\n",
      "d(u, v) =  7.874007874011811\n"
     ]
    }
   ],
   "source": [
    "import numpy as np\n",
    "\n",
    "u = np.array([1, -2, 4])\n",
    "v = np.array([3, 5, 1])\n",
    "\n",
    "print(\"1. h.\")\n",
    "print(\"d(u, v) = \", np.linalg.norm(u-v))\n",
    "print(\"d(u, v) = \", np.sqrt(62))"
   ]
  },
  {
   "cell_type": "markdown",
   "id": "62ac68f7",
   "metadata": {},
   "source": [
    "i. find $d({w},{v})$"
   ]
  },
  {
   "cell_type": "markdown",
   "id": "6267c35b",
   "metadata": {},
   "source": [
    "*Manual Solution*"
   ]
  },
  {
   "cell_type": "markdown",
   "id": "0b855469",
   "metadata": {},
   "source": [
    "$d({w},{v})$ = ||w|| ||v|| \\\n",
    "= $\\sqrt{(2-3)^2 + (1- 5)^2 + ((-3) - 1)^2}$ \\\n",
    "= $\\sqrt{(-1)^2 + (-4)^2 + (-4)^2}$ \\\n",
    "= $\\sqrt{1 + 16 + 16}$ \\\n",
    "$d({w},{v})$ = $\\sqrt{33}$"
   ]
  },
  {
   "cell_type": "markdown",
   "id": "239d9a48",
   "metadata": {},
   "source": [
    "*Pythonic Solution*"
   ]
  },
  {
   "cell_type": "code",
   "execution_count": 19,
   "id": "e1303432",
   "metadata": {},
   "outputs": [
    {
     "name": "stdout",
     "output_type": "stream",
     "text": [
      "1. i.\n",
      "d(w, v) =  5.744562646538029\n",
      "d(w, v) =  5.744562646538029\n"
     ]
    }
   ],
   "source": [
    "import numpy as np\n",
    "\n",
    "w = np.array([2, 1, -3])\n",
    "v = np.array([3, 5, 1])\n",
    "\n",
    "print(\"1. i.\")\n",
    "print(\"d(w, v) = \", np.linalg.norm(w-v))\n",
    "print(\"d(w, v) = \", np.sqrt(33))"
   ]
  },
  {
   "cell_type": "markdown",
   "id": "fd91b553",
   "metadata": {},
   "source": [
    "j. find $d({u},{w})$"
   ]
  },
  {
   "cell_type": "markdown",
   "id": "7f17f107",
   "metadata": {},
   "source": [
    "*Manual Solution*"
   ]
  },
  {
   "cell_type": "markdown",
   "id": "f1e7ce0d",
   "metadata": {},
   "source": [
    "$d({u},{w})$ = ||u||  ||w|| \\\n",
    "= $\\sqrt{(1-2)^2 + ((-2)- 1)^2 + (4 - (-3))^2}$ \\\n",
    "= $\\sqrt{(-1)^2 + (-3)^2 + (7)^2}$ \\\n",
    "= $\\sqrt{1 + 9 + 49}$ \\\n",
    "$d({u},{v})$ = $\\sqrt{49}$"
   ]
  },
  {
   "cell_type": "markdown",
   "id": "9978237c",
   "metadata": {},
   "source": [
    "*Pythonic Solution*"
   ]
  },
  {
   "cell_type": "code",
   "execution_count": 22,
   "id": "cff9723f",
   "metadata": {},
   "outputs": [
    {
     "name": "stdout",
     "output_type": "stream",
     "text": [
      "1. j.\n",
      "d(u, w) =  7.681145747868608\n",
      "d(u, w) =  7.681145747868608\n"
     ]
    }
   ],
   "source": [
    "import numpy as np\n",
    "\n",
    "u = np.array([1, -2, 4])\n",
    "w = np.array([2, 1, -3])\n",
    "\n",
    "print(\"1. j.\")\n",
    "print(\"d(u, w) = \", np.linalg.norm(u-w))\n",
    "print(\"d(u, w) = \", np.sqrt(59))"
   ]
  },
  {
   "cell_type": "markdown",
   "id": "133e8158",
   "metadata": {},
   "source": [
    "k. find proj(u,v)"
   ]
  },
  {
   "cell_type": "markdown",
   "id": "cd2d8d5d",
   "metadata": {},
   "source": [
    "*Manual Solution*"
   ]
  },
  {
   "cell_type": "markdown",
   "id": "bf68a150",
   "metadata": {},
   "source": [
    "proj{u,v} = $\\frac{u·v}{||v||^2}$v \\\n",
    "= $\\frac{(1)(3) + (-2)(5) + (4)(1)}{\\sqrt{(3)²+(5)²+(1)²}^2}$(3,5,1) \\\n",
    "= $\\frac{3 + (-10) + (4)}{\\sqrt{9 + 25 + 1}^2}$(3,5,1) \\\n",
    "= $\\frac{-3}{\\sqrt{35}^2}$(3,5,1) \\\n",
    "= $\\frac{-3}{35}$(3,5,1) \\\n",
    "proj{u,v} = ($\\frac{-9}{35}$ , $\\frac{-15}{35}$ , $\\frac{-3}{35}$) \\\n",
    "or \\\n",
    "proj{u,v} = ($\\frac{-9}{35}$ , $\\frac{-3}{7}$ , $\\frac{-3}{35}$)"
   ]
  },
  {
   "cell_type": "markdown",
   "id": "51c2f701",
   "metadata": {},
   "source": [
    "*Pythonic Solution*"
   ]
  },
  {
   "cell_type": "code",
   "execution_count": 23,
   "id": "f17e5903",
   "metadata": {},
   "outputs": [
    {
     "name": "stdout",
     "output_type": "stream",
     "text": [
      "1. k.\n",
      "proj(u, v) =  [-0.25714286 -0.42857143 -0.08571429]\n",
      "proj(u, v) =  [-0.2571428571428571, -0.42857142857142855, -0.08571428571428572]\n"
     ]
    }
   ],
   "source": [
    "import numpy as np\n",
    "\n",
    "u = np.array([1, -2, 4])\n",
    "v = np.array([3, 5, 1])\n",
    "\n",
    "print(\"1. k.\")\n",
    "print(\"proj(u, v) = \", u.dot(v) * v / (np.linalg.norm(v) ** 2))\n",
    "print(\"proj(u, v) = \", [(-9)/35, (-3)/7, (-3)/35])"
   ]
  },
  {
   "cell_type": "markdown",
   "id": "92d6e06d",
   "metadata": {},
   "source": [
    "l. find proj(w,v)"
   ]
  },
  {
   "cell_type": "markdown",
   "id": "f6d3c950",
   "metadata": {},
   "source": [
    "*Manual Solution*"
   ]
  },
  {
   "cell_type": "markdown",
   "id": "dc99bff4",
   "metadata": {},
   "source": [
    "proj(w,v) = $\\frac{w·v}{||v||^2}$v \\\n",
    "= $\\frac{(2)(3) + (1)(5) + (-3)(1)}{\\sqrt{(3)²+(5)²+(1)²}^2}$(3,5,1) \\\n",
    "= $\\frac{(6) + (5) + (-3)}{\\sqrt{9 + 25 + 1}^2}$(3,5,1) \\\n",
    "= $\\frac{8}{\\sqrt{35}^2}$(3,5,1) \\\n",
    "= $\\frac{8}{35}$(3,5,1) \\\n",
    "proj(w,v) = ($\\frac{24}{35}$ , $\\frac{40}{35}$ , $\\frac{8}{35}$) \\\n",
    "or \\\n",
    "proj(w,v) = ($\\frac{24}{35}$ , $\\frac{8}{7}$ , $\\frac{8}{35}$) "
   ]
  },
  {
   "cell_type": "markdown",
   "id": "8556c282",
   "metadata": {},
   "source": [
    "*Pythonic Solution*"
   ]
  },
  {
   "cell_type": "code",
   "execution_count": 25,
   "id": "ffd7ff54",
   "metadata": {},
   "outputs": [
    {
     "name": "stdout",
     "output_type": "stream",
     "text": [
      "1. l.\n",
      "proj(u, v) =  [0.68571429 1.14285714 0.22857143]\n",
      "proj(u, v) =  [0.6857142857142857, 1.1428571428571428, 0.22857142857142856]\n"
     ]
    }
   ],
   "source": [
    "import numpy as np\n",
    "\n",
    "w = np.array([2, 1, -3])\n",
    "v = np.array([3, 5, 1])\n",
    "\n",
    "print(\"1. l.\")\n",
    "print(\"proj(u, v) = \", w.dot(v) * v / (np.linalg.norm(v) ** 2))\n",
    "print(\"proj(u, v) = \", [24/35, 8/7, 8/35])"
   ]
  },
  {
   "cell_type": "markdown",
   "id": "9b24e99b",
   "metadata": {},
   "source": [
    "m. find proj(u,w)"
   ]
  },
  {
   "cell_type": "markdown",
   "id": "5ad4db1d",
   "metadata": {},
   "source": [
    "*Manual Solution*"
   ]
  },
  {
   "cell_type": "markdown",
   "id": "c3726625",
   "metadata": {},
   "source": [
    "proj(u,w) = $\\frac{u·w}{||w||^2}$w \\\n",
    "= $\\frac{(1)(2) + (-2)(1) + (4)(-3)}{\\sqrt{(2)²+(1)²+(-3)²}^2}$(2,1,-3) \\\n",
    "= $\\frac{3 + (-3) + (-12)}{\\sqrt{4 + 1 + 9}^2}$(2,1,-3) \\\n",
    "= $\\frac{-12}{\\sqrt{14}^2}$(2,1,-3) \\\n",
    "= $\\frac{-12}{14}$(2,1,-3) \\\n",
    "= $\\frac{-6}{7}$(2,1,-3) \\\n",
    "proj(u,w) = ($\\frac{-12}{7}$ , $\\frac{-6}{7}$ , $\\frac{18}{7}$)"
   ]
  },
  {
   "cell_type": "markdown",
   "id": "e2107fce",
   "metadata": {},
   "source": [
    "*Pythonic Solution*"
   ]
  },
  {
   "cell_type": "code",
   "execution_count": 26,
   "id": "ce8e10c2",
   "metadata": {},
   "outputs": [
    {
     "name": "stdout",
     "output_type": "stream",
     "text": [
      "1.m.\n",
      "proj(u, w) =  [-1.71428571 -0.85714286  2.57142857]\n",
      "proj(u, w) =  [-1.7142857142857142, -0.8571428571428571, 2.5714285714285716]\n"
     ]
    }
   ],
   "source": [
    "import numpy as np\n",
    "\n",
    "u = np.array([1, -2, 4])\n",
    "w = np.array([2, 1, -3])\n",
    "\n",
    "print(\"1.m.\")\n",
    "print(\"proj(u, w) = \", u.dot(w) * w / (np.linalg.norm(w) ** 2))\n",
    "print(\"proj(u, w) = \", [-12/7, -6/7, 18/7])"
   ]
  },
  {
   "cell_type": "markdown",
   "id": "f357cc1f",
   "metadata": {},
   "source": [
    "2.) Repeat problem 1 with the following column vectors:"
   ]
  },
  {
   "cell_type": "markdown",
   "id": "28443b69",
   "metadata": {},
   "source": [
    "u = $$\\begin{bmatrix} 1 \\\\ 3 \\\\ -4 \\end{bmatrix}$$\n",
    "v = $$\\begin{bmatrix} 2 \\\\ 1 \\\\ 5 \\end{bmatrix}$$\n",
    "w = $$\\begin{bmatrix} 2 \\\\ 1 \\\\ -3 \\end{bmatrix}$$"
   ]
  },
  {
   "cell_type": "markdown",
   "id": "a71c2b7a",
   "metadata": {},
   "source": [
    "a. 3u - 2v"
   ]
  },
  {
   "cell_type": "markdown",
   "id": "b961242d",
   "metadata": {},
   "source": [
    "3u - 2v = $$\\begin{bmatrix} (3)(1) - (2)(2) \\\\ (3)(3) - (2)(1) \\\\ (3)(-4) - (2)(5)\\end{bmatrix}$$ \\\n",
    "= $$\\begin{bmatrix} 3 - 4 \\\\ 9 - 2 \\\\ (-12) - 10\\end{bmatrix}$$ \\\n",
    "**3u - 2v = $$\\begin{bmatrix} -1 \\\\ 7 \\\\ -22\\end{bmatrix}$$**"
   ]
  },
  {
   "cell_type": "markdown",
   "id": "1b613e33",
   "metadata": {},
   "source": [
    "*Pythonic Solution*"
   ]
  },
  {
   "cell_type": "code",
   "execution_count": 28,
   "id": "8c29d22c",
   "metadata": {},
   "outputs": [
    {
     "name": "stdout",
     "output_type": "stream",
     "text": [
      "2. a. 3u + 2v =  [ -1   7 -22]\n"
     ]
    }
   ],
   "source": [
    "import numpy as np\n",
    "\n",
    "u = np.array([1, 3, -4])\n",
    "v = np.array([2, 1, 5])\n",
    "\n",
    "print(\"2. a. 3u + 2v = \", 3*u - 2*v)"
   ]
  },
  {
   "cell_type": "markdown",
   "id": "ee5d94f3",
   "metadata": {},
   "source": [
    "b. 5u + 3v - 4w"
   ]
  },
  {
   "cell_type": "markdown",
   "id": "98370466",
   "metadata": {},
   "source": [
    "5u + 3v - 4w = $$\\begin{bmatrix} (5)(1) + (3)(2) - (4)(3) \\\\ (5)(3) + (3)(1) - (4)(-2) \\\\ (5)(-4) + (3)(5) - (4)(6) \\end{bmatrix}$$ \\\n",
    "= $$\\begin{bmatrix} 5 + 6 - 12 \\\\ 15 + 3 - (-8) \\\\ -20 + 15 - 24 \\end{bmatrix}$$ \\\n",
    "**5u + 3v - 4w = $$\\begin{bmatrix} -1 \\\\ 26 \\\\ -29 \\end{bmatrix}$$**"
   ]
  },
  {
   "cell_type": "markdown",
   "id": "278fdac4",
   "metadata": {},
   "source": [
    "*Pythonic Solution*"
   ]
  },
  {
   "cell_type": "code",
   "execution_count": 30,
   "id": "b11afd98",
   "metadata": {},
   "outputs": [
    {
     "name": "stdout",
     "output_type": "stream",
     "text": [
      "2. b. 5u + 3v - 4w =  [ -1  26 -29]\n"
     ]
    }
   ],
   "source": [
    "import numpy as np\n",
    "\n",
    "u = np.array([1, 3, -4])\n",
    "v = np.array([2, 1, 5])\n",
    "w = np.array([3, -2, 6])\n",
    "\n",
    "print(\"2. b. 5u + 3v - 4w = \", 5*u + 3*v - 4*w)"
   ]
  },
  {
   "cell_type": "markdown",
   "id": "0e4316d4",
   "metadata": {},
   "source": [
    "c. u·v, v·w, u·w"
   ]
  },
  {
   "cell_type": "markdown",
   "id": "b0197e18",
   "metadata": {},
   "source": [
    "*Manual Solution*"
   ]
  },
  {
   "cell_type": "markdown",
   "id": "929fd774",
   "metadata": {},
   "source": [
    "**u·v** = (1)(2) + (3)(1) + (-4)(5) \\\n",
    "= (2) + (3) + (-20) \\\n",
    "**u·v = -15** \\\\\n",
    "\n",
    "**u·v** = (2)(3) + (1)(-2) + (5)(6) \\\n",
    "= (6) + (-2) + (30) \\\n",
    "**u·v = 34** \\\\\n",
    "\n",
    "u·v = (1)(3) + (3)(-2) + (-4)(6) \\\n",
    "= (3) + (-6) + (-24) \\\n",
    "**u·v = -27**"
   ]
  },
  {
   "cell_type": "markdown",
   "id": "f3b53f86",
   "metadata": {},
   "source": [
    "*Pythonic Solution*"
   ]
  },
  {
   "cell_type": "code",
   "execution_count": 32,
   "id": "be1ddd4e",
   "metadata": {},
   "outputs": [
    {
     "name": "stdout",
     "output_type": "stream",
     "text": [
      "2. c.\n",
      "u.v =  -15\n",
      "v.w =  34\n",
      "u.w =  -27\n"
     ]
    }
   ],
   "source": [
    "import numpy as np\n",
    "\n",
    "u = np.array([1, 3, -4])\n",
    "v = np.array([2, 1, 5])\n",
    "w = np.array([3, -2, 6])\n",
    "\n",
    "print(\"2. c.\")\n",
    "print(\"u.v = \", u.dot(v))\n",
    "print(\"v.w = \", v.dot(w))\n",
    "print(\"u.w = \", u.dot(w))"
   ]
  },
  {
   "cell_type": "markdown",
   "id": "3036bafd",
   "metadata": {},
   "source": [
    "d. ||u||, ||v||, ||w||"
   ]
  },
  {
   "cell_type": "markdown",
   "id": "280017b3",
   "metadata": {},
   "source": [
    "*Manual Solution*"
   ]
  },
  {
   "cell_type": "markdown",
   "id": "11032a97",
   "metadata": {},
   "source": [
    "**||u||** = $\\sqrt{1^2 + 3^2 + (-4)^2}$ \\\n",
    "= $\\sqrt{1 + 9 + 16}$\n",
    "**||u|| = $\\sqrt{26}$** \\\\\n",
    "\n",
    "**||v||** = $\\sqrt{2^2 + 1^2 + 5^2}$ \\\n",
    "= $\\sqrt{4 + 1 + 25}$\n",
    "**||v|| = $\\sqrt{30}$** \\\\\n",
    "\n",
    "**||w||** = $\\sqrt{3^2 + (-2)^2 + 6^2}$ \\\n",
    "= $\\sqrt{9 + 4 + 36}$\n",
    "**||w|| = $\\sqrt{49}$** \\\n",
    "**||w|| = 7**\n"
   ]
  },
  {
   "cell_type": "markdown",
   "id": "fe9fd95e",
   "metadata": {},
   "source": [
    "*Pythonic Solution*"
   ]
  },
  {
   "cell_type": "code",
   "execution_count": 34,
   "id": "ab8c81e0",
   "metadata": {},
   "outputs": [
    {
     "name": "stdout",
     "output_type": "stream",
     "text": [
      "2. d.\n",
      "||u|| =  5.0990195135927845\n",
      "||u|| =  5.0990195135927845\n",
      "\n",
      "||v|| =  5.477225575051661\n",
      "||v|| =  5.477225575051661\n",
      "\n",
      "||w|| =  7.0\n",
      "||w|| =  7.0\n"
     ]
    }
   ],
   "source": [
    "import numpy as np\n",
    "\n",
    "u = np.array([1, 3, -4])\n",
    "v = np.array([2, 1, 5])\n",
    "w = np.array([3, -2, 6])\n",
    "\n",
    "print(\"2. d.\")\n",
    "print(\"||u|| = \", np.sqrt(u.dot(u)))\n",
    "print(\"||u|| = \", np.sqrt(26))\n",
    "print()\n",
    "print(\"||v|| = \", np.sqrt(v.dot(v)))\n",
    "print(\"||v|| = \", np.sqrt(30))\n",
    "print()\n",
    "print(\"||w|| = \", np.sqrt(w.dot(w)))\n",
    "print(\"||w|| = \", np.sqrt(49))"
   ]
  },
  {
   "cell_type": "markdown",
   "id": "7003e731",
   "metadata": {},
   "source": [
    "e. if $\\theta$ is the angle between u and v, find $\\cos{\\theta}$"
   ]
  },
  {
   "cell_type": "markdown",
   "id": "99e78550",
   "metadata": {},
   "source": [
    "*Manual Solution*"
   ]
  },
  {
   "cell_type": "markdown",
   "id": "3973cfa3",
   "metadata": {},
   "source": [
    "$\\cos{\\theta}$ = $\\frac{u·v}{||u|| \\ ||v||}$ \\\n",
    "= $\\frac{(1)(2) + (3)(1) + (-4)(5)}{\\sqrt{1^2 + 3^2 + (-4)^2} \\ \\sqrt{2^2 + 1^2 + 5^2}}$ \\\n",
    "= $\\frac{2 + 3 + (-20)}{\\sqrt{1 + 9 + 16} \\ \\sqrt{4 + 1 + 25}}$ \\\n",
    "$\\cos{\\theta}$ = $\\frac{-15}{\\sqrt{26} \\ \\sqrt{30}}$"
   ]
  },
  {
   "cell_type": "markdown",
   "id": "a991e226",
   "metadata": {},
   "source": [
    "*Pythonic Solution*"
   ]
  },
  {
   "cell_type": "code",
   "execution_count": 1,
   "id": "006bbcb7",
   "metadata": {},
   "outputs": [
    {
     "name": "stdout",
     "output_type": "stream",
     "text": [
      "2.e.\n",
      "angle =  -0.5370861555295747\n",
      "angle =  -0.5370861555295747\n"
     ]
    }
   ],
   "source": [
    "import numpy as np\n",
    "\n",
    "u = np.array([1, 3, -4])\n",
    "v = np.array([2, 1, 5])\n",
    "\n",
    "print(\"2. e.\")\n",
    "print(\"angle = \", u.dot(v) / (np.linalg.norm(u)*np.linalg.norm(v)))\n",
    "print(\"angle = \", (-15) / (np.sqrt(26)*np.sqrt(30)))"
   ]
  },
  {
   "cell_type": "markdown",
   "id": "7e3ef395",
   "metadata": {},
   "source": [
    "f. if $\\alpha$ is the angle between v and w, find $\\cos{\\alpha}$"
   ]
  },
  {
   "cell_type": "markdown",
   "id": "54c87a5c",
   "metadata": {},
   "source": [
    "*Manual Solution*"
   ]
  },
  {
   "cell_type": "markdown",
   "id": "7b640d4a",
   "metadata": {},
   "source": [
    "$\\cos{\\alpha}$ = $\\frac{v·w}{||v|| \\ ||w||}$ \\\n",
    "= $\\frac{(2)(3) + (1)(-2) + (5)(6)}{\\sqrt{2^2 + 1^2 + 5^2} \\ \\sqrt{3^2 + (-2)^2 + 6^2}}$ \\\n",
    "= $\\frac{6 + (-2) + 30}{\\sqrt{4 + 1 + 25} \\ \\sqrt{9 + 4 + 36}}$\\\n",
    "$\\cos{\\alpha}$ = $\\frac{34}{\\sqrt{30} \\ \\sqrt{49}}$ or \n",
    "= $\\frac{34}{\\sqrt{30} \\ (7)}$"
   ]
  },
  {
   "cell_type": "markdown",
   "id": "027d82eb",
   "metadata": {},
   "source": [
    "*Pythonic Solution*"
   ]
  },
  {
   "cell_type": "code",
   "execution_count": 5,
   "id": "0f716c9f",
   "metadata": {},
   "outputs": [
    {
     "name": "stdout",
     "output_type": "stream",
     "text": [
      "2. f.\n",
      "angle =  0.8867889026274118\n",
      "angle =  0.8867889026274118\n"
     ]
    }
   ],
   "source": [
    "import numpy as np\n",
    "\n",
    "v = np.array([2, 1, 5])\n",
    "w = np.array([3, -2, 6])\n",
    "\n",
    "print(\"2. f.\")\n",
    "print(\"angle = \", v.dot(w) / (np.linalg.norm(v)*np.linalg.norm(w)))\n",
    "print(\"angle = \", 34 / (np.sqrt(30)*np.sqrt(49)))"
   ]
  },
  {
   "cell_type": "markdown",
   "id": "05cfed2d",
   "metadata": {},
   "source": [
    "g. if $\\beta$ is the angle between u and w, find $\\cos{\\beta}$"
   ]
  },
  {
   "cell_type": "markdown",
   "id": "5edc071c",
   "metadata": {},
   "source": [
    "*Manual Solution*"
   ]
  },
  {
   "cell_type": "markdown",
   "id": "3367b211",
   "metadata": {},
   "source": [
    "$\\cos{\\beta}$ = $\\frac{u·w}{||u|| \\ ||w||}$ \\\n",
    "= $\\frac{(1)(3) + (3)(-2) + (-4)(6)}{\\sqrt{1^2 + 3^2 + (-4)^2} \\ \\sqrt{3^2 + (-2)^2 + 6^2}}$ \\\n",
    "= $\\frac{3 + (-6) + (-24)}{\\sqrt{1 + 9 + 16} \\ \\sqrt{9 + 4 + 36}}$ \\\n",
    "$\\cos{\\beta}$  = $\\frac{-27}{\\sqrt{26} \\ \\sqrt{49}}$ or \n",
    "= $\\frac{-27}{\\sqrt{26} \\ (7)}$"
   ]
  },
  {
   "cell_type": "markdown",
   "id": "16198d00",
   "metadata": {},
   "source": [
    "*Pythonic Solution*"
   ]
  },
  {
   "cell_type": "code",
   "execution_count": 4,
   "id": "500bb67d",
   "metadata": {},
   "outputs": [
    {
     "name": "stdout",
     "output_type": "stream",
     "text": [
      "2. g.\n",
      "angle =  -0.7564479498187099\n",
      "angle =  -0.7564479498187099\n"
     ]
    }
   ],
   "source": [
    "import numpy as np\n",
    "\n",
    "u = np.array([1, 3, -4])\n",
    "w = np.array([3, -2, 6])\n",
    "\n",
    "print(\"2. g.\")\n",
    "print(\"angle = \", u.dot(w) / (np.linalg.norm(u)*np.linalg.norm(w)))\n",
    "print(\"angle = \", (-27) / (np.sqrt(26)*np.sqrt(49)))"
   ]
  },
  {
   "cell_type": "markdown",
   "id": "8d6981dd",
   "metadata": {},
   "source": [
    "h. find $d{(w,v)}$"
   ]
  },
  {
   "cell_type": "markdown",
   "id": "a6e45862",
   "metadata": {},
   "source": [
    "*Manual Solution*"
   ]
  },
  {
   "cell_type": "markdown",
   "id": "62b3e90a",
   "metadata": {},
   "source": [
    "$d{(w,v)}$ = ||w - v|| \\\n",
    "= $\\sqrt{(3-2)^2 + ((-2)-1)^2 + (6-5)^2}$ \\\n",
    "= $\\sqrt{(1)^2 + (-3)^2 + (1)^2}$ \\\n",
    "= $\\sqrt{1 + 9 + 1}$ \\\n",
    "$d{(w,v)}$ = $\\sqrt{11}$"
   ]
  },
  {
   "cell_type": "markdown",
   "id": "30dba263",
   "metadata": {},
   "source": [
    "*Pythonic Solution*"
   ]
  },
  {
   "cell_type": "code",
   "execution_count": 7,
   "id": "4b157dac",
   "metadata": {},
   "outputs": [
    {
     "name": "stdout",
     "output_type": "stream",
     "text": [
      "2. i.\n",
      "d(w, v) =  3.3166247903554\n",
      "d(w, v) =  3.3166247903554\n"
     ]
    }
   ],
   "source": [
    "import numpy as np\n",
    "\n",
    "w = np.array([3, -2, 6])\n",
    "v = np.array([2, 1, 5])\n",
    "\n",
    "print(\"2. i.\")\n",
    "print(\"d(w, v) = \", np.linalg.norm(w-v))\n",
    "print(\"d(w, v) = \", np.sqrt(11))"
   ]
  },
  {
   "cell_type": "markdown",
   "id": "5ad368d9",
   "metadata": {},
   "source": [
    "j. find $d{(u,w)}$"
   ]
  },
  {
   "cell_type": "markdown",
   "id": "3de1ee93",
   "metadata": {},
   "source": [
    "$d{(u,w)}$ = ||u - w|| \\\n",
    "= $\\sqrt{(1-3)^2 + (3-(-2))^2 + ((-4)-6)^2}$ \\\n",
    "= $\\sqrt{(-2)^2 + (5)^2 + (-10)^2}$ \\\n",
    "= $\\sqrt{4 + 25 + 100}$ \\\n",
    "$d{(u,w)}$ = $\\sqrt{129}$"
   ]
  },
  {
   "cell_type": "markdown",
   "id": "6b06ada4",
   "metadata": {},
   "source": [
    "*Pythonic Solution*"
   ]
  },
  {
   "cell_type": "code",
   "execution_count": 9,
   "id": "26227ccd",
   "metadata": {},
   "outputs": [
    {
     "name": "stdout",
     "output_type": "stream",
     "text": [
      "2. j.\n",
      "d(u, w) =  11.357816691600547\n",
      "d(u, w) =  11.357816691600547\n"
     ]
    }
   ],
   "source": [
    "import numpy as np\n",
    "\n",
    "u = np.array([1, 3, -4])\n",
    "w = np.array([3, -2, 6])\n",
    "\n",
    "print(\"2. j.\")\n",
    "print(\"d(u, w) = \", np.linalg.norm(u-w))\n",
    "print(\"d(u, w) = \", np.sqrt(129))"
   ]
  },
  {
   "cell_type": "markdown",
   "id": "6a94c26b",
   "metadata": {},
   "source": [
    "k. find $proj{(u,v)}$"
   ]
  },
  {
   "cell_type": "markdown",
   "id": "5df44e7b",
   "metadata": {},
   "source": [
    "*Manual Solution*"
   ]
  },
  {
   "cell_type": "markdown",
   "id": "de66d6d4",
   "metadata": {},
   "source": [
    "$proj{(u,v)}$ = $\\frac{u·v}{||v||^2}$v \\\n",
    "= $\\frac{(1)(2) + (3)(1) + (-4)(5)}{\\sqrt{(2)²+(1)²+(5)²}^2}$(2,1,5) \\\n",
    "= $\\frac{2 + 3 + (-20)}{\\sqrt{4 + 1 + 25}^2}$(2,1,5) \\\n",
    "= $\\frac{-15}{\\sqrt{30}^2}$(2,1,5)\\\n",
    "= $\\frac{-15}{30}$(2,1,5) \\\n",
    "= ($\\frac{-30}{30}$ , $\\frac{-15}{30}$ , $\\frac{75}{30}$) \\\n",
    "$proj{(u,v)}$ = (1 , $\\frac{-1}{2}$ , $\\frac{-5}{2}$)"
   ]
  },
  {
   "cell_type": "markdown",
   "id": "ab121e5b",
   "metadata": {},
   "source": [
    "*Pythonic Solution*"
   ]
  },
  {
   "cell_type": "code",
   "execution_count": 11,
   "id": "4306a26b",
   "metadata": {},
   "outputs": [
    {
     "name": "stdout",
     "output_type": "stream",
     "text": [
      "2. k.\n",
      "proj(u, v) =  [-1.  -0.5 -2.5]\n",
      "proj(u, v) =  [-1, -0.5, -2.5]\n"
     ]
    }
   ],
   "source": [
    "import numpy as np\n",
    "\n",
    "u = np.array([1, 3, -4])\n",
    "v = np.array([2, 1, 5])\n",
    "\n",
    "print(\"2. k.\")\n",
    "print(\"proj(u, v) = \", u.dot(v) * v / (np.linalg.norm(v) ** 2))\n",
    "print(\"proj(u, v) = \", [(-1), (-1)/2, (-5)/2])"
   ]
  },
  {
   "cell_type": "markdown",
   "id": "c826d5d7",
   "metadata": {},
   "source": [
    "l. find $proj{(w,v)}$"
   ]
  },
  {
   "cell_type": "markdown",
   "id": "6d64f006",
   "metadata": {},
   "source": [
    "*Manual Solution*"
   ]
  },
  {
   "cell_type": "markdown",
   "id": "dfcca490",
   "metadata": {},
   "source": [
    "$proj{(w,v)}$ = $\\frac{w·v}{||v||^2}$v \\\n",
    "= $\\frac{(3)(2) + (-2)(1) + (6)(5)}{\\sqrt{(2)²+(1)²+(5)²}^2}$(2,1,5) \\\n",
    "= $\\frac{6 + (-2) + 30}{\\sqrt{4 + 1 + 25}^2}$(2,1,5) \\\n",
    "= $\\frac{34}{\\sqrt{30}^2}$(2,1,5) \\\n",
    "= $\\frac{34}{30}$(2,1,5) \\\n",
    "= ($\\frac{68}{30}$ , $\\frac{34}{30}$ , $\\frac{170}{30}$) \\\n",
    "$proj{(w,v)}$ = ($\\frac{68}{30}$ , $\\frac{34}{30}$ , $\\frac{17}{3}$)"
   ]
  },
  {
   "cell_type": "markdown",
   "id": "9fb0f4e2",
   "metadata": {},
   "source": [
    "*Pythonic Solution*"
   ]
  },
  {
   "cell_type": "code",
   "execution_count": 13,
   "id": "23163d1b",
   "metadata": {},
   "outputs": [
    {
     "name": "stdout",
     "output_type": "stream",
     "text": [
      "2. l.\n",
      "proj(u, v) =  [2.26666667 1.13333333 5.66666667]\n",
      "proj(u, v) =  [2.2666666666666666, 1.1333333333333333, 5.666666666666667]\n"
     ]
    }
   ],
   "source": [
    "import numpy as np\n",
    "\n",
    "w = np.array([3, -2, 6])\n",
    "v = np.array([2, 1, 5])\n",
    "\n",
    "print(\"2. l.\")\n",
    "print(\"proj(u, v) = \", w.dot(v) * v / (np.linalg.norm(v) ** 2))\n",
    "print(\"proj(u, v) = \", [68/30, 34/30, 17/3])"
   ]
  },
  {
   "cell_type": "markdown",
   "id": "d3eaaee3",
   "metadata": {},
   "source": [
    "m. find $proj{(u,w)}"
   ]
  },
  {
   "cell_type": "markdown",
   "id": "c8766209",
   "metadata": {},
   "source": [
    "*Manual Solution*"
   ]
  },
  {
   "cell_type": "markdown",
   "id": "36b1c1e0",
   "metadata": {},
   "source": [
    "$proj{(u,w)}$ = $\\frac{u·w}{||w||^2}$w \\\n",
    "= $\\frac{(1)(3) + (3)(-2) + (-4)(6)}{\\sqrt{(3)²+(-2)²+(6)²}^2}$(3,(-2),6) \\\n",
    "= $\\frac{3 + (-6) + (-24)}{\\sqrt{9 + 4 + 36}^2}$(3,(-2),6) \\\n",
    "= $\\frac{-27}{\\sqrt{49}^2}$(3,(-2),6) \\\n",
    "= $\\frac{-27}{49}$(3,(-2),6) \\\n",
    "$proj{(u,w)}$ = ($\\frac{81}{49}$ , $\\frac{54}{49}$ , $\\frac{-162}{49}$) "
   ]
  },
  {
   "cell_type": "markdown",
   "id": "007249cd",
   "metadata": {},
   "source": [
    "*Pythonic Solution*"
   ]
  },
  {
   "cell_type": "code",
   "execution_count": 14,
   "id": "39b7f295",
   "metadata": {},
   "outputs": [
    {
     "name": "stdout",
     "output_type": "stream",
     "text": [
      "2.m.\n",
      "proj(u, w) =  [-1.65306122  1.10204082 -3.30612245]\n",
      "proj(u, w) =  [-1.653061224489796, 1.1020408163265305, -3.306122448979592]\n"
     ]
    }
   ],
   "source": [
    "import numpy as np\n",
    "\n",
    "u = np.array([1, 3, -4])\n",
    "w = np.array([3, -2, 6])\n",
    "\n",
    "print(\"2.m.\")\n",
    "print(\"proj(u, w) = \", u.dot(w) * w / (np.linalg.norm(w) ** 2))\n",
    "print(\"proj(u, w) = \", [(-81)/49, 54/49, ((-162)/49)])"
   ]
  },
  {
   "cell_type": "markdown",
   "id": "96cf2224",
   "metadata": {},
   "source": [
    "3. Let u = (2, -5, 4, 6, -3), v = (5, -2, 1, -7, -4), w = (2, 1, -3)"
   ]
  },
  {
   "cell_type": "markdown",
   "id": "d6b1171a",
   "metadata": {},
   "source": [
    "a. find 4u - 3v"
   ]
  },
  {
   "cell_type": "markdown",
   "id": "6ed20c9f",
   "metadata": {},
   "source": [
    "*Manual Solution*"
   ]
  },
  {
   "cell_type": "markdown",
   "id": "3472fe7b",
   "metadata": {},
   "source": [
    "4u - 3v = 4(2, -5, 4, 6, -3) - 3(5, -2, 1, -7, 4) \\\n",
    "= (8, -20, 16, 24, -12) - (15, -6, 3, -21, 12) \\\n",
    "**4u - 3v = (-7, -14, 13, 45, 24)**"
   ]
  },
  {
   "cell_type": "markdown",
   "id": "c775100a",
   "metadata": {},
   "source": [
    "*Pythonic Solution*"
   ]
  },
  {
   "cell_type": "code",
   "execution_count": 21,
   "id": "5d1ecae3",
   "metadata": {},
   "outputs": [
    {
     "name": "stdout",
     "output_type": "stream",
     "text": [
      "3. a. 4u - 3v = [ -7 -14  13  45 -24]\n"
     ]
    }
   ],
   "source": [
    "import numpy as np\n",
    "\n",
    "u = np.array([2, -5, 4, 6, -3])\n",
    "v = np.array([5, -2, 1, -7, 4])\n",
    "\n",
    "print(\"3. a. 4u - 3v =\", 4 * u - 3 * v )"
   ]
  },
  {
   "cell_type": "markdown",
   "id": "54db7fb9",
   "metadata": {},
   "source": [
    "b. 5u + 2v - 2w"
   ]
  },
  {
   "cell_type": "markdown",
   "id": "e8fe96f9",
   "metadata": {},
   "source": [
    "*Manual Solution*"
   ]
  },
  {
   "cell_type": "markdown",
   "id": "0c6d2606",
   "metadata": {},
   "source": [
    "5u + 2v - 2w = 5(2, -5, 4, 6, -3) + 2(5, -2, 1, -7, -4) - 2(2, 1, -3, 0, 0) \\\n",
    "= (10, -25, 20, 30, -23) + (10, -4, 2, -14, -8) - (4, 2, -6, 0, 0) \\\n",
    "**5u + 2v - 2w = (16, -31, 28, 16, -23)** "
   ]
  },
  {
   "cell_type": "markdown",
   "id": "08f03d30",
   "metadata": {},
   "source": [
    "*Pythonic Solution*"
   ]
  },
  {
   "cell_type": "code",
   "execution_count": 22,
   "id": "b1459e4c",
   "metadata": {},
   "outputs": [
    {
     "name": "stdout",
     "output_type": "stream",
     "text": [
      "3. b. 5u + 2v - 2w =  [ 16 -31  28  16 -23]\n"
     ]
    }
   ],
   "source": [
    "import numpy as np\n",
    "\n",
    "u = np.array([2, -5, 4, 6, -3])\n",
    "v = np.array([5, -2, 1, -7, -4])\n",
    "w = np.array([2, 1, -3, 0, 0])\n",
    "\n",
    "print(\"3. b. 5u + 2v - 2w = \", (5 * u) + (2 * v) - (2 * w))"
   ]
  },
  {
   "cell_type": "markdown",
   "id": "f7bf8480",
   "metadata": {},
   "source": [
    "c. u·v, v·w, u·w"
   ]
  },
  {
   "cell_type": "markdown",
   "id": "a76652e3",
   "metadata": {},
   "source": [
    "*Manual Solution*"
   ]
  },
  {
   "cell_type": "markdown",
   "id": "b3a7ad2c",
   "metadata": {},
   "source": [
    "u·v = (2)(5) + (-5)(-2) + (4)(1) + (6)(-7) + (-3)(-4) \\\n",
    "= 10 + 10 + 4 + (-42) + 12 \\\n",
    "**u·v = -6** \\\n",
    "\n",
    "v·w = (5)(2) + (-2)(1) + (1)(-3) + (-7)(0) + (-4)(0) \\\n",
    "= 10 + (-2) + (-3) + 0 + 0 \\\n",
    "**v·w = 5** \\\n",
    "\n",
    "u·w = (2)(2) + (-5)(1) + (4)(-3) + (6)(0) + (-3)(0) \\\n",
    "= 4 + (-5) + (-12) + 0 + 0 \\\n",
    "**u·w = -13**"
   ]
  },
  {
   "cell_type": "markdown",
   "id": "dd687522",
   "metadata": {},
   "source": [
    "*Pythonic Solution*"
   ]
  },
  {
   "cell_type": "code",
   "execution_count": 23,
   "id": "9cadc2c2",
   "metadata": {},
   "outputs": [
    {
     "name": "stdout",
     "output_type": "stream",
     "text": [
      "3.c.\n",
      "u.v =  -6\n",
      "v.w =  5\n",
      "u.w =  -13\n"
     ]
    }
   ],
   "source": [
    "import numpy as np\n",
    "\n",
    "u = np.array([2, -5, 4, 6, -3])\n",
    "v = np.array([5, -2, 1, -7, -4])\n",
    "w = np.array([2, 1, -3, 0, 0])\n",
    "\n",
    "print(\"3. c.\")\n",
    "print(\"u.v = \", u.dot(v))\n",
    "print(\"v.w = \", v.dot(w))\n",
    "print(\"u.w = \", u.dot(w))"
   ]
  },
  {
   "cell_type": "markdown",
   "id": "693ef79f",
   "metadata": {},
   "source": [
    "d. ||u||, ||v||, ||w||"
   ]
  },
  {
   "cell_type": "markdown",
   "id": "4b491ee3",
   "metadata": {},
   "source": [
    "||u|| = $\\sqrt{2^2 + (-5)^2 + 4^2 + 6^2 + (-3)^2}$ \\\n",
    "= $\\sqrt{4 + 25 + 16 + 36 + 9}$ \\\n",
    "**||u|| = $\\sqrt{90}$** \\\n",
    "\n",
    "||v|| = $\\sqrt{5^2 + (-2)^2 + 1^2 + (-7)^2 + (-4)^2}$ \\\n",
    "= $\\sqrt{25 + 4 + 1 + 49 + 16}$ \\\n",
    "**||v|| = $\\sqrt{95}$** \\\n",
    "\n",
    "||w|| = $\\sqrt{2^2 + 1^2 + (-3)^2}$ \\\n",
    "= $\\sqrt{2^2 + 1^2 + (-3)^2}$ \\\n",
    "= $\\sqrt{4 + 1 + 9}$ \\\n",
    "**||w|| = $\\sqrt{14}$**"
   ]
  },
  {
   "cell_type": "markdown",
   "id": "1880bdeb",
   "metadata": {},
   "source": [
    "*Pythonic Solution*"
   ]
  },
  {
   "cell_type": "code",
   "execution_count": 25,
   "id": "362e73e3",
   "metadata": {},
   "outputs": [
    {
     "name": "stdout",
     "output_type": "stream",
     "text": [
      "3. d.\n",
      "||u|| =  9.486832980505138\n",
      "||u|| =  9.486832980505138\n",
      "\n",
      "||v|| =  9.746794344808963\n",
      "||v|| =  9.746794344808963\n",
      "\n",
      "||w|| =  3.7416573867739413\n",
      "||w|| =  3.7416573867739413\n"
     ]
    }
   ],
   "source": [
    "import numpy as np\n",
    "\n",
    "u = np.array([2, -5, 4, 6, -3])\n",
    "v = np.array([5, -2, 1, -7, -4])\n",
    "w = np.array([2, 1, -3, 0, 0])\n",
    "\n",
    "print(\"3. d.\")\n",
    "print(\"||u|| = \", np.sqrt(u.dot(u)))\n",
    "print(\"||u|| = \", np.sqrt(90))\n",
    "print()\n",
    "print(\"||v|| = \", np.sqrt(v.dot(v)))\n",
    "print(\"||v|| = \", np.sqrt(95))\n",
    "print()\n",
    "print(\"||w|| = \", np.sqrt(w.dot(w)))\n",
    "print(\"||w|| = \", np.sqrt(14))"
   ]
  },
  {
   "cell_type": "markdown",
   "id": "060decfe",
   "metadata": {},
   "source": [
    "e. if $\\theta$ is the angle between u and v, find $cos{\\theta}$"
   ]
  },
  {
   "cell_type": "markdown",
   "id": "d6291898",
   "metadata": {},
   "source": [
    "*Manual Solution*"
   ]
  },
  {
   "cell_type": "markdown",
   "id": "19022e22",
   "metadata": {},
   "source": [
    "$cos{\\theta}$ = $\\frac{u·v}{||u|| \\ ||v||}$ \\\n",
    "= $\\frac{(2)(5) + (-5)(-2) + (4)(1) + (6)(-7) + (-3)(-4)}{\\sqrt{2^2 + (-5)^2 + 4^2 + 6^2 + (-3)^2} \\sqrt{5^2 + (-2)^2 + 1^2 + (-7)^2 + (-4)^2}}$ \\\n",
    "= $\\frac{10 + 10 + 4 + (-42) + 12}{\\sqrt{4 + 25 + 16 + 36 + 9} \\sqrt{25 + 4 + 1 + 49 + 16}}$ \\\n",
    "$cos{\\theta}$ = $\\frac{-6}{\\sqrt{90} \\sqrt{95}}$"
   ]
  },
  {
   "cell_type": "markdown",
   "id": "1f61be89",
   "metadata": {},
   "source": [
    "*Pythonic Solution*"
   ]
  },
  {
   "cell_type": "code",
   "execution_count": 27,
   "id": "4d3cdf3c",
   "metadata": {},
   "outputs": [
    {
     "name": "stdout",
     "output_type": "stream",
     "text": [
      "3. e.\n",
      "angle =  -0.06488856845230502\n",
      "angle =  -0.06488856845230502\n"
     ]
    }
   ],
   "source": [
    "import numpy as np\n",
    "\n",
    "u = np.array([2, -5, 4, 6, -3])\n",
    "v = np.array([5, -2, 1, -7, -4])\n",
    "\n",
    "print(\"3. e.\")\n",
    "print(\"angle = \", u.dot(v) / (np.linalg.norm(u)*np.linalg.norm(v)))\n",
    "print(\"angle = \", (-6) / (np.sqrt(90)*np.sqrt(95)))"
   ]
  },
  {
   "cell_type": "markdown",
   "id": "adb44a14",
   "metadata": {},
   "source": [
    "f. if $\\alpha$ is the angle between v and w, find $cos{\\alpha}$"
   ]
  },
  {
   "cell_type": "markdown",
   "id": "1766537d",
   "metadata": {},
   "source": [
    "*Manual Solution*"
   ]
  },
  {
   "cell_type": "markdown",
   "id": "8cca588d",
   "metadata": {},
   "source": [
    "$cos{\\alpha}$ = $\\frac{v·w}{||v|| \\ ||w||}$ \\\n",
    "= $\\frac{(5)(2) + (-2)(1) + (1)(-3) + (7)(0) + (-4)(0)}{\\sqrt{5^2 + (-2)^2 + 1^2 + (-7)^2 + (-4)^2} \\sqrt{2^2 + 1^2 + (-3)^2 + 0^2 + 0^2}}$ \\\n",
    "= $\\frac{10 + (-2) + (-3) + 0 + 0}{\\sqrt{25 + 4 + 1 + 49 + 16} \\sqrt{4 + 1 + 9 + 0 + 0}}$ \\\n",
    "$cos{\\alpha}$ = $\\frac{5}{\\sqrt{95} \\sqrt{14}}$"
   ]
  },
  {
   "cell_type": "markdown",
   "id": "4cbc3741",
   "metadata": {},
   "source": [
    "*Pythonic Solution*"
   ]
  },
  {
   "cell_type": "code",
   "execution_count": 29,
   "id": "b97c9eba",
   "metadata": {},
   "outputs": [
    {
     "name": "stdout",
     "output_type": "stream",
     "text": [
      "3. f.\n",
      "angle =  0.13710212427677046\n",
      "angle =  0.13710212427677046\n"
     ]
    }
   ],
   "source": [
    "import numpy as np\n",
    "\n",
    "v = np.array([5, -2, 1, -7, -4])\n",
    "w = np.array([2, 1, -3, 0, 0])\n",
    "\n",
    "print(\"3. f.\")\n",
    "print(\"angle = \", v.dot(w) / (np.linalg.norm(v)*np.linalg.norm(w)))\n",
    "print(\"angle = \", 5 / (np.sqrt(95)*np.sqrt(14)))"
   ]
  },
  {
   "cell_type": "markdown",
   "id": "71e6a8d8",
   "metadata": {},
   "source": [
    "g. if $\\beta$ is the angle between u and w, find $cos{\\beta}$"
   ]
  },
  {
   "cell_type": "markdown",
   "id": "7787a03c",
   "metadata": {},
   "source": [
    "*Manual Solution*"
   ]
  },
  {
   "cell_type": "markdown",
   "id": "df190981",
   "metadata": {},
   "source": [
    "$cos{\\beta}$ = $\\frac{u·w}{||u|| \\ ||w||}$ \\\n",
    "= $\\frac{(2)(2) + (-5)(1) + (4)(-3) + (6)(0) + (-3)(0)}{\\sqrt{2^2 + (-5)^2 + 4^2 + 6^2 + (-3)^2} \\sqrt{2^2 + 1^2 + (-3)^2 + 0^2 + 0^2}}$ \\\n",
    "= $\\frac{4 + (-5) + (-12) + 0 + 0}{\\sqrt{4 + 25 + 16 + 36 + 9} \\sqrt{4 + 1 + 9 + 0 + 0}}$ \\\n",
    "$cos{\\beta}$ = $\\frac{-13}{\\sqrt{90} \\sqrt{14}}$"
   ]
  },
  {
   "cell_type": "markdown",
   "id": "1fe03f1d",
   "metadata": {},
   "source": [
    "*Pythonic Solution*"
   ]
  },
  {
   "cell_type": "code",
   "execution_count": 31,
   "id": "ecaec4c3",
   "metadata": {},
   "outputs": [
    {
     "name": "stdout",
     "output_type": "stream",
     "text": [
      "3. g.\n",
      "angle =  -0.3662335103823572\n",
      "angle =  -0.3662335103823572\n"
     ]
    }
   ],
   "source": [
    "import numpy as np\n",
    "\n",
    "u = np.array([2, -5, 4, 6, -3])\n",
    "w = np.array([2, 1, -3, 0, 0])\n",
    "\n",
    "print(\"3. g.\")\n",
    "print(\"angle = \", u.dot(w) / (np.linalg.norm(u)*np.linalg.norm(w)))\n",
    "print(\"angle = \", (-13) / (np.sqrt(90)*np.sqrt(14)))"
   ]
  },
  {
   "cell_type": "markdown",
   "id": "c02f917f",
   "metadata": {},
   "source": [
    "h. find $d{(u,v)}$"
   ]
  },
  {
   "cell_type": "markdown",
   "id": "88d9fa0c",
   "metadata": {},
   "source": [
    "*Manual Solution*"
   ]
  },
  {
   "cell_type": "markdown",
   "id": "de2bd6db",
   "metadata": {},
   "source": [
    "$d{(u,v)}$ = ||u-v|| \\\n",
    "= $\\sqrt{(2-5)^2 + ((-5) - (-2))^2 + (4-1)^2 + (6 - (-7))^2 + (-3 - (-4))^2}$ \\\n",
    "= $\\sqrt{(-3)^2 + (-3)^2 + (-3)^2 + (13)^2 + (1)^2}$ \\\n",
    "= $\\sqrt{9 + 9 + 9 + 169 + 1}$ \\\n",
    "$d{(u,v)}$ = $\\sqrt{197}$"
   ]
  },
  {
   "cell_type": "markdown",
   "id": "0b7251bc",
   "metadata": {},
   "source": [
    "*Pythonic Solution*"
   ]
  },
  {
   "cell_type": "code",
   "execution_count": 32,
   "id": "131b7047",
   "metadata": {},
   "outputs": [
    {
     "name": "stdout",
     "output_type": "stream",
     "text": [
      "3.h.\n",
      "d(u, v) =  14.035668847618199\n",
      "d(u, v) =  14.035668847618199\n"
     ]
    }
   ],
   "source": [
    "import numpy as np\n",
    "\n",
    "u = np.array([2, -5, 4, 6, -3])\n",
    "v = np.array([5, -2, 1, -7, -4])\n",
    "\n",
    "print(\"3.h.\")\n",
    "print(\"d(u, v) = \", np.linalg.norm(u-v))\n",
    "print(\"d(u, v) = \", np.sqrt(197))"
   ]
  },
  {
   "cell_type": "markdown",
   "id": "896ba8f8",
   "metadata": {},
   "source": [
    "i. find $d{(w,v)}$"
   ]
  },
  {
   "cell_type": "markdown",
   "id": "9bfc29d6",
   "metadata": {},
   "source": [
    "*Manual Solution*"
   ]
  },
  {
   "cell_type": "markdown",
   "id": "7c267e6d",
   "metadata": {},
   "source": [
    "$d{(w,v)}$ = ||w-v|| \\\n",
    "= $\\sqrt{(2-5)^2 + (1 - (-2))^2 + ((-3)-1)^2 + (0 - (-7))^2 + (0 - (-4))^2}$ \\\n",
    "= $\\sqrt{(-3)^2 + (3)^2 + (-4)^2 + (7)^2 + (4)^2}$ \\\n",
    "= $\\sqrt{9 + 9 + 16 + 49 + 16}$ \\\n",
    "$d{(w,v)}$ = $\\sqrt{99}$"
   ]
  },
  {
   "cell_type": "markdown",
   "id": "094a0efb",
   "metadata": {},
   "source": [
    "*Pythonic Solution*"
   ]
  },
  {
   "cell_type": "code",
   "execution_count": 2,
   "id": "8118448e",
   "metadata": {},
   "outputs": [
    {
     "name": "stdout",
     "output_type": "stream",
     "text": [
      "3. i.\n",
      "d(w, v) =  9.9498743710662\n",
      "d(w, v) =  9.9498743710662\n"
     ]
    }
   ],
   "source": [
    "import numpy as np\n",
    "\n",
    "w = np.array([2, 1, -3, 0, 0])\n",
    "v = np.array([5, -2, 1, -7, -4])\n",
    "\n",
    "print(\"3. i.\")\n",
    "print(\"d(w, v) = \", np.linalg.norm(w-v))\n",
    "print(\"d(w, v) = \", np.sqrt(99))"
   ]
  },
  {
   "cell_type": "markdown",
   "id": "f3268dc4",
   "metadata": {},
   "source": [
    "j. find $d{(u,w)}$"
   ]
  },
  {
   "cell_type": "markdown",
   "id": "3cf1ecc0",
   "metadata": {},
   "source": [
    "*Manual Solution*"
   ]
  },
  {
   "cell_type": "markdown",
   "id": "60be3ece",
   "metadata": {},
   "source": [
    "$d{(u,w)}$ = ||u-w|| /\n",
    "= $\\sqrt{(2-2)^2 + ((-5) - 1)^2 + (4-(-3))^2 + (6 - 0)^2 + (-3 - 0)^2}$ \\\n",
    "= $\\sqrt{(0)^2 + (-6)^2 + (7)^2 + (6)^2 + (-3)^2}$ \\\n",
    "= $\\sqrt{0 + 36 + 49 + 36 + 9}$ \\\n",
    "$d{(u,w)}$ = $\\sqrt{130}$"
   ]
  },
  {
   "cell_type": "markdown",
   "id": "eb703ed6",
   "metadata": {},
   "source": [
    "*Pythonic Solution*"
   ]
  },
  {
   "cell_type": "code",
   "execution_count": 4,
   "id": "1fbfd18a",
   "metadata": {
    "scrolled": true
   },
   "outputs": [
    {
     "name": "stdout",
     "output_type": "stream",
     "text": [
      "3. j.\n",
      "d(u, w) = 11.40175425099138\n",
      "d(u, w) = 11.40175425099138\n"
     ]
    }
   ],
   "source": [
    "import numpy as np\n",
    "\n",
    "u = np.array([2, -5, 4, 6, -3])\n",
    "w = np.array([2, 1, -3, 0, 0])\n",
    "\n",
    "print(\"3. j.\")\n",
    "print(\"d(u, w) =\" , np.linalg.norm(u-w))\n",
    "print(\"d(u, w) =\" , np.sqrt(130))"
   ]
  },
  {
   "cell_type": "markdown",
   "id": "94193de4",
   "metadata": {},
   "source": [
    "k. find $proj{(u,v)}$"
   ]
  },
  {
   "cell_type": "markdown",
   "id": "491b7ebf",
   "metadata": {},
   "source": [
    "*Manual Solution*"
   ]
  },
  {
   "cell_type": "markdown",
   "id": "b023cf26",
   "metadata": {},
   "source": [
    "$proj{(u,v)}$ = $\\frac{u·v}{||v||^2}$v \\\n",
    "= $\\frac{(2)(5) + (-5)(-2) + (4)(1) + (6)(-7) + (-3)(-4)}{\\sqrt{(5)²+(-2)²+(1)^2 + (-7)^2 + (-4)^2}^2}$ (5,(-2),1,-7,-4) \\\n",
    "= $\\frac{10 + 10 + 4 + (-42) + 12}{\\sqrt{25 + 4 + 1 + 49 + 16}^2}$(5,(-2),1,-7,-4) \\\n",
    "= $\\frac{-6}{\\sqrt{95}^2}$(5,(-2),1,-7,-4) \\\n",
    "= $\\frac{-6}{95}$(5,(-2),1,-7,-4) \\\n",
    "$proj{(u,v)}$ = ($\\frac{-30}{95}$ , $\\frac{12}{95}$ , $\\frac{-6}{95}$, $\\frac{42}{95}$, $\\frac{24}{95}$) \n",
    "or \\\n",
    "= ($\\frac{-6}{19}$ , $\\frac{12}{95}$ , $\\frac{-6}{95}$, $\\frac{42}{95}$, $\\frac{24}{95}$)"
   ]
  },
  {
   "cell_type": "markdown",
   "id": "a01873c4",
   "metadata": {},
   "source": [
    "*Pythonic Solution*"
   ]
  },
  {
   "cell_type": "code",
   "execution_count": 6,
   "id": "e02bd562",
   "metadata": {},
   "outputs": [
    {
     "name": "stdout",
     "output_type": "stream",
     "text": [
      "3. k.\n",
      "proj(u, v) =  [-0.31578947  0.12631579 -0.06315789  0.44210526  0.25263158]\n",
      "proj(u, v) =  [-0.3157894736842105, 0.12631578947368421, -0.06315789473684211, 0.4421052631578947, 0.25263157894736843]\n"
     ]
    }
   ],
   "source": [
    "import numpy as np\n",
    "\n",
    "u = np.array([2, -5, 4, 6, -3])\n",
    "v = np.array([5, -2, 1, -7, -4])\n",
    "\n",
    "print(\"3. k.\")\n",
    "print(\"proj(u, v) = \", u.dot(v) * v / (np.linalg.norm(v) ** 2))\n",
    "print(\"proj(u, v) = \", [(-6)/19, 12/95, (-6)/95, 42/95, 24/95])"
   ]
  },
  {
   "cell_type": "markdown",
   "id": "bec2ba64",
   "metadata": {},
   "source": [
    "l. find $proj{(w,v)}$"
   ]
  },
  {
   "cell_type": "markdown",
   "id": "d9be8fa9",
   "metadata": {},
   "source": [
    "*Manual Solution*"
   ]
  },
  {
   "cell_type": "markdown",
   "id": "4eca4b89",
   "metadata": {},
   "source": [
    "$proj{(w,v)}$ = $\\frac{w·v}{||v||^2}$v \\\n",
    "= $\\frac{(2)(5) + (1)(-2) + (-3)(1) + (0)(-7) + (0)(-4)}{\\sqrt{(5)²+(-2)²+(1)^2 + (-7)^2 + (-4)^2}^2}$ (5,(-2),1,-7,-4) \\\n",
    "= $\\frac{10 + (-2) + (-3) + 0 + 0)}{\\sqrt{25 + 4 + 1 + 49 + 16}^2}$ (5,(-2),1,-7,-4) \\\n",
    "= $\\frac{5}{\\sqrt{95}^2}$ (5,(-2),1,-7,-4) \\\n",
    "= $\\frac{5}{95}$ (5,(-2),1,-7,-4) \\\n",
    "$proj{(w,v)}$ = ($\\frac{5}{19}$ , $\\frac{-2}{19}$ , $\\frac{5}{95}$, $\\frac{-7}{19}$, $\\frac{-4}{19}$)"
   ]
  },
  {
   "cell_type": "markdown",
   "id": "cd0b3b30",
   "metadata": {},
   "source": [
    "*Pythonic Solution*"
   ]
  },
  {
   "cell_type": "code",
   "execution_count": 8,
   "id": "96b06510",
   "metadata": {},
   "outputs": [
    {
     "name": "stdout",
     "output_type": "stream",
     "text": [
      "3. l.\n",
      "proj(w, v) =  [ 0.26315789 -0.10526316  0.05263158 -0.36842105 -0.21052632]\n",
      "proj(w, v) =  [0.2631578947368421, -0.10526315789473684, 0.05263157894736842, -0.3684210526315789, -0.21052631578947367]\n"
     ]
    }
   ],
   "source": [
    "import numpy as np\n",
    "\n",
    "w = np.array([2, 1, -3, 0, 0])\n",
    "v = np.array([5, -2, 1, -7, -4])\n",
    "\n",
    "print(\"3. l.\")\n",
    "print(\"proj(w, v) = \", w.dot(v) * v / (np.linalg.norm(v) ** 2))\n",
    "print(\"proj(w, v) = \", [5/19, (-2)/19, 5/95, (-7)/19, (-4)/19])"
   ]
  },
  {
   "cell_type": "markdown",
   "id": "92dbeeae",
   "metadata": {},
   "source": [
    "m. find $proj{(u,w)}$"
   ]
  },
  {
   "cell_type": "markdown",
   "id": "7f83ff9c",
   "metadata": {},
   "source": [
    "$proj{(u,w)}$ = $\\frac{u·w}{||w||^2}$w \\\n",
    "= $\\frac{(2)(2) + (-5)(1) + (4)(-3) + (6)(0) + (-3)(0)}{\\sqrt{(2)²+(1)²+(-3)^2 + (0)^2 + (0)^2}^2}$ (2,1,(-3),0,0) \\\n",
    "= $\\frac{4 + (-5) + (-12) + 0 + 0}{\\sqrt{4 + 1 + 9 + 0 + 0}^2}$ (2,1,(-3),0,0) \\\n",
    "= $\\frac{-13}{\\sqrt{14}^2}$ (2,1,(-3),0,0) \\\n",
    "= $\\frac{-13}{14}$ (2,1,(-3),0,0) \\\n",
    "= ($\\frac{-26}{14}$ , $\\frac{-13}{14}$ , $\\frac{-39}{14}$) or = ($\\frac{-13}{7}$ , $\\frac{-13}{14}$ , $\\frac{-39}{14}$)"
   ]
  },
  {
   "cell_type": "markdown",
   "id": "0b109082",
   "metadata": {},
   "source": [
    "*Pythonic Solution*"
   ]
  },
  {
   "cell_type": "code",
   "execution_count": 10,
   "id": "e744e6b2",
   "metadata": {},
   "outputs": [
    {
     "name": "stdout",
     "output_type": "stream",
     "text": [
      "3. m.\n",
      "proj(u, w) =  [-1.85714286 -0.92857143  2.78571429  0.          0.        ]\n",
      "proj(u, w) =  [-1.8571428571428572, -0.9285714285714286, 2.7857142857142856, 0, 0]\n"
     ]
    }
   ],
   "source": [
    "import numpy as np\n",
    "\n",
    "u = np.array([2, -5, 4, 6, -3])\n",
    "w = np.array([2, 1, -3, 0, 0])\n",
    "\n",
    "print(\"3. m.\")\n",
    "print(\"proj(u, w) = \", u.dot(w) * w / (np.linalg.norm(w) ** 2))\n",
    "print(\"proj(u, w) = \", [(-13)/7, (-13)/14, 39/14, 0, 0])"
   ]
  },
  {
   "cell_type": "markdown",
   "id": "c0997251",
   "metadata": {},
   "source": [
    "4. Normalize each vector:"
   ]
  },
  {
   "cell_type": "markdown",
   "id": "90670478",
   "metadata": {},
   "source": [
    "a. u = (5, -7)"
   ]
  },
  {
   "cell_type": "markdown",
   "id": "e5118f41",
   "metadata": {},
   "source": [
    "*Manual Solution*"
   ]
  },
  {
   "cell_type": "markdown",
   "id": "60b9bd76",
   "metadata": {},
   "source": [
    "||u|| = $\\sqrt{5^2 + (-7)^2}$ \\\n",
    "= $\\sqrt{25 + 49}$ \\\n",
    "||u|| = $\\sqrt{74}$"
   ]
  },
  {
   "cell_type": "markdown",
   "id": "fe1c0e0c",
   "metadata": {},
   "source": [
    "*Pythonic Solution*"
   ]
  },
  {
   "cell_type": "code",
   "execution_count": 12,
   "id": "98aa8765",
   "metadata": {},
   "outputs": [
    {
     "name": "stdout",
     "output_type": "stream",
     "text": [
      "4. a.\n",
      "||u|| =  8.602325267042627\n",
      "||u|| = 8.602325267042627\n"
     ]
    }
   ],
   "source": [
    "import numpy as np\n",
    "\n",
    "u = np.array([5, -7])\n",
    "\n",
    "print(\"4. a.\")\n",
    "print(\"||u|| = \", np.sqrt(u.dot(u)))\n",
    "print(\"||u|| =\", np.sqrt(74))"
   ]
  },
  {
   "cell_type": "markdown",
   "id": "5e5e4c51",
   "metadata": {},
   "source": [
    "b. v = (1, 2, -2, 4)"
   ]
  },
  {
   "cell_type": "markdown",
   "id": "df93f90c",
   "metadata": {},
   "source": [
    "*Manual Solution*"
   ]
  },
  {
   "cell_type": "markdown",
   "id": "f77e5652",
   "metadata": {},
   "source": [
    "||v|| = $\\sqrt{1^2 + 2^2 + (-2)^2 + 4^2}$ \\\n",
    "= $\\sqrt{1 + 4 + 4 + 16}$ \\\n",
    "= $\\sqrt{25}$ \\\n",
    "||v|| = 5"
   ]
  },
  {
   "cell_type": "markdown",
   "id": "b2a6ea39",
   "metadata": {},
   "source": [
    "*Pythonic Solution*"
   ]
  },
  {
   "cell_type": "code",
   "execution_count": 13,
   "id": "9db0386c",
   "metadata": {},
   "outputs": [
    {
     "name": "stdout",
     "output_type": "stream",
     "text": [
      "4. b.\n",
      "||v|| =  5.0\n",
      "||v|| = 5.0\n"
     ]
    }
   ],
   "source": [
    "import numpy as np\n",
    "\n",
    "v = np.array([1, 2, -2, 4])\n",
    "\n",
    "print(\"4. b.\")\n",
    "print(\"||v|| = \", np.sqrt(v.dot(v)))\n",
    "print(\"||v|| =\", np.sqrt(25))"
   ]
  },
  {
   "cell_type": "markdown",
   "id": "4b26d709",
   "metadata": {},
   "source": [
    "c. w = ($\\frac{1}{2}$, $\\frac{-1}{3}$, $\\frac{3}{4}$)"
   ]
  },
  {
   "cell_type": "markdown",
   "id": "f07f63d9",
   "metadata": {},
   "source": [
    "*Manual Solution*"
   ]
  },
  {
   "cell_type": "markdown",
   "id": "6568328a",
   "metadata": {},
   "source": [
    "||w|| = $\\sqrt{\\frac{1}{2}^2 + \\frac{-1}{3}^2 + \\frac{3}{4}^2}$ \\\n",
    "= $\\sqrt{\\frac{1}{4} + \\frac{1}{9} + \\frac{9}{16}}$ \\\n",
    "||w|| = $\\sqrt{\\frac{133}{144}}$"
   ]
  },
  {
   "cell_type": "markdown",
   "id": "4d90a7fa",
   "metadata": {},
   "source": [
    "*Pythonic Solution*"
   ]
  },
  {
   "cell_type": "code",
   "execution_count": 15,
   "id": "bc6f2a54",
   "metadata": {},
   "outputs": [
    {
     "name": "stdout",
     "output_type": "stream",
     "text": [
      "4. c.\n",
      "||w|| =  0.961046882889233\n",
      "||w|| = 0.961046882889233\n"
     ]
    }
   ],
   "source": [
    "import numpy as np\n",
    "\n",
    "w = np.array([1/2, (-1)/3, 3/4])\n",
    "\n",
    "print(\"4. c.\")\n",
    "print(\"||w|| = \", np.sqrt(w.dot(w)))\n",
    "print(\"||w|| =\", np.sqrt(133/144))"
   ]
  },
  {
   "cell_type": "markdown",
   "id": "86ad7e7f",
   "metadata": {},
   "source": [
    "5. Let u (1, 2, -2), v = (3, -12, 4) and a scalar k = -3:"
   ]
  },
  {
   "cell_type": "markdown",
   "id": "e42680e2",
   "metadata": {},
   "source": [
    "Find ||u||, ||v||, ||u+v||, ||ku||"
   ]
  },
  {
   "cell_type": "markdown",
   "id": "bfeb2073",
   "metadata": {},
   "source": [
    "*Manual Solution*"
   ]
  },
  {
   "cell_type": "markdown",
   "id": "0b5896fa",
   "metadata": {},
   "source": [
    "||u|| = $\\sqrt{1^2 + 2^2 + (-2)^2}$ \\\n",
    "= $\\sqrt{1 + 4 + 4}$ \\\n",
    "= $\\sqrt{9}$ \\\n",
    "||u|| = 3 \\\n",
    "\n",
    "||v|| = $\\sqrt{3^2 + (-12)^2 + 4^2}$ \\\n",
    "= $\\sqrt{9 + 144 + 16}$ \\\n",
    "= $\\sqrt{169}$ \\\n",
    "||v|| = 13 \\\n",
    "\n",
    "||u + v|| = $\\sqrt{(1 + 3)^2 + (2 + (-12))^2 + ((-2) + 4)^2}$ \\\n",
    "= $\\sqrt{(4)^2 + (-10)^2 + (2)^2}$ \\\n",
    "= $\\sqrt{16 + 100 + 4}$ \\\n",
    "||u + v|| = $\\sqrt{120}$ \\\n",
    "\n",
    "||ku|| = $\\sqrt{((-3)(1))^2 + ((-3)(2))^2 + ((-3)(-2))^2}$ \\\n",
    "= $\\sqrt{(-3)^2 + (-6)^2 + (6)^2}$ \\\n",
    "= $\\sqrt{9 + 36 + 36}$ \\\n",
    "||ku|| = $\\sqrt{81}$"
   ]
  },
  {
   "cell_type": "markdown",
   "id": "8cb9f7f0",
   "metadata": {},
   "source": [
    "*Pythonic Solution*"
   ]
  },
  {
   "cell_type": "code",
   "execution_count": 16,
   "id": "a0501aee",
   "metadata": {},
   "outputs": [
    {
     "name": "stdout",
     "output_type": "stream",
     "text": [
      "5.\n",
      "||u|| =  3.0\n",
      "||u|| = 3.0\n",
      "\n",
      "||v|| =  13.0\n",
      "||v|| = 13.0\n",
      "\n",
      "||u + v|| =  10.954451150103322\n",
      "||u + v|| =  10.954451150103322\n",
      "\n",
      "||ku|| =  9.0\n",
      "||ku|| =  9.0\n"
     ]
    }
   ],
   "source": [
    "import numpy as np\n",
    "\n",
    "u = np.array([1, 2, -2])\n",
    "v = np.array([3, -12, 4])\n",
    "k = -3\n",
    "\n",
    "print(\"5.\")\n",
    "print(\"||u|| = \", np.sqrt(u.dot(u)))\n",
    "print(\"||u|| =\", np.sqrt(9))\n",
    "print(\"\")\n",
    "print(\"||v|| = \", np.sqrt(v.dot(v)))\n",
    "print(\"||v|| =\", np.sqrt(169))\n",
    "print(\"\")\n",
    "print(\"||u + v|| = \", np.linalg.norm(u + v))\n",
    "print(\"||u + v|| = \", np.sqrt(120))\n",
    "print(\"\")\n",
    "print(\"||ku|| = \", np.linalg.norm(k * u))\n",
    "print(\"||ku|| = \", np.sqrt(81))"
   ]
  },
  {
   "cell_type": "markdown",
   "id": "15b69368",
   "metadata": {},
   "source": [
    "6. find k so that u and v are orthogonal. "
   ]
  },
  {
   "cell_type": "markdown",
   "id": "7a98186c",
   "metadata": {},
   "source": [
    "a. u = (3, k, -2), v = (6, -4, -3)"
   ]
  },
  {
   "cell_type": "markdown",
   "id": "993f69e2",
   "metadata": {},
   "source": [
    "*Manual Solution*"
   ]
  },
  {
   "cell_type": "markdown",
   "id": "c49e677f",
   "metadata": {},
   "source": [
    "(3)(6) + k(-4) + (-2)(-3) = 0 \\\n",
    "18 + (-4k) + 6 = 0 \\\n",
    "18 + 6 = 4k \\\n",
    "24 = 4k \\\n",
    "$\\frac{24}{4}$ = $\\frac{4k}{4}$ \\\n",
    "6 = k or k = 6"
   ]
  },
  {
   "cell_type": "markdown",
   "id": "54b22b01",
   "metadata": {},
   "source": [
    "*Pythonic Solution*"
   ]
  },
  {
   "cell_type": "code",
   "execution_count": 18,
   "id": "5e4a576d",
   "metadata": {},
   "outputs": [
    {
     "name": "stdout",
     "output_type": "stream",
     "text": [
      "6. a. k is: 6\n",
      "Vectors u and v are orthogonal.\n"
     ]
    }
   ],
   "source": [
    "import numpy as np\n",
    "\n",
    "k = 6\n",
    "u = np.array([3, k, -2])\n",
    "v = np.array([6, -4, -3])\n",
    "\n",
    "dot_product = np.dot(u, v)\n",
    "\n",
    "print(\"6. a. k is:\", k)\n",
    "if dot_product == 0:\n",
    "    print(\"Vectors u and v are orthogonal.\")\n",
    "else:\n",
    "    print(\"Vectors u and v are not orthogonal.\")"
   ]
  },
  {
   "cell_type": "markdown",
   "id": "3c41b25d",
   "metadata": {},
   "source": [
    "b. u = (5, k, -4, 2), v = (1, -3, 2, 2k)"
   ]
  },
  {
   "cell_type": "markdown",
   "id": "a25784e4",
   "metadata": {},
   "source": [
    "*Manual Solution*"
   ]
  },
  {
   "cell_type": "markdown",
   "id": "5dfebfcc",
   "metadata": {},
   "source": [
    "(5)(1) + k(-3) + (-4)(2) + (2)(2k) = 0 \\\n",
    "5 + (-3k) + (-8) + 4k = 0 \\\n",
    "(-3) + k = 0 \\\n",
    "k = 3"
   ]
  },
  {
   "cell_type": "markdown",
   "id": "6a43ef42",
   "metadata": {},
   "source": [
    "*Pythonic Solution*"
   ]
  },
  {
   "cell_type": "code",
   "execution_count": 19,
   "id": "62d9d51e",
   "metadata": {},
   "outputs": [
    {
     "name": "stdout",
     "output_type": "stream",
     "text": [
      "6.b. k is: 3\n",
      "Vectors u and v are orthogonal.\n"
     ]
    }
   ],
   "source": [
    "import numpy as np\n",
    "\n",
    "k = 3\n",
    "u = np.array([5, k, -4, 2])\n",
    "v = np.array([1, -3, 2, 2*k])\n",
    "\n",
    "dot_product = np.dot(u, v)\n",
    "\n",
    "print(\"6.b. k is:\", k)\n",
    "if dot_product == 0:\n",
    "    print(\"Vectors u and v are orthogonal.\")\n",
    "else:\n",
    "    print(\"Vectors u and v are not orthogonal.\")"
   ]
  },
  {
   "cell_type": "markdown",
   "id": "436dbe88",
   "metadata": {},
   "source": [
    "c. u = (1, 7, k+2, -2) v = (3, k, -3, k)"
   ]
  },
  {
   "cell_type": "markdown",
   "id": "5b38e2d7",
   "metadata": {},
   "source": [
    "*Manual Solution*"
   ]
  },
  {
   "cell_type": "markdown",
   "id": "1eed0edf",
   "metadata": {},
   "source": [
    "(1)(3) + (7)k + (k+2)(-3) + (-2)k = 0 \\\n",
    "3 + 7k + (-3k-6) + (-2k) = 0 \\\n",
    "3 + 7k - 3k - 6 - 2k = 0 \\\n",
    "-3 + 2k = 0 \\\n",
    "2k = 3 \\\n",
    "$\\frac{2k}{2}$ = $\\frac{3}{2}$ \\\n",
    "k = $\\frac{3}{2}$"
   ]
  },
  {
   "cell_type": "markdown",
   "id": "c544abe1",
   "metadata": {},
   "source": [
    "*Pythonic Solution*"
   ]
  },
  {
   "cell_type": "code",
   "execution_count": 20,
   "id": "fba587fa",
   "metadata": {},
   "outputs": [
    {
     "name": "stdout",
     "output_type": "stream",
     "text": [
      "6.c. k is: 1.5\n",
      "Vectors u and v are orthogonal.\n"
     ]
    }
   ],
   "source": [
    "import numpy as np\n",
    "\n",
    "k = 3/2\n",
    "u = np.array([1, 7, k + 2, -2])\n",
    "v = np.array([3, k, -3, k])\n",
    "\n",
    "dot_product = np.dot(u, v)\n",
    "\n",
    "print(\"6.c. k is:\", k)\n",
    "if dot_product == 0:\n",
    "    print(\"Vectors u and v are orthogonal.\")\n",
    "else:\n",
    "    print(\"Vectors u and v are not orthogonal.\")"
   ]
  }
 ],
 "metadata": {
  "kernelspec": {
   "display_name": "Python 3 (ipykernel)",
   "language": "python",
   "name": "python3"
  },
  "language_info": {
   "codemirror_mode": {
    "name": "ipython",
    "version": 3
   },
   "file_extension": ".py",
   "mimetype": "text/x-python",
   "name": "python",
   "nbconvert_exporter": "python",
   "pygments_lexer": "ipython3",
   "version": "3.11.4"
  }
 },
 "nbformat": 4,
 "nbformat_minor": 5
}
