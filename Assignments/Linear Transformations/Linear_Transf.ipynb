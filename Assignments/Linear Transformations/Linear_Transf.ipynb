{
 "cells": [
  {
   "cell_type": "markdown",
   "id": "643c8e22",
   "metadata": {},
   "source": [
    "1. Develop a python function from scratch that will find determinants of any n x n matrix"
   ]
  },
  {
   "cell_type": "code",
   "execution_count": 1,
   "id": "c81716b3",
   "metadata": {},
   "outputs": [],
   "source": [
    "def determinant(matrix):\n",
    "    # Base case: If the matrix is 1x1, return the only element\n",
    "    if len(matrix) == 1 and len(matrix[0]) == 1:\n",
    "        return matrix[0][0]\n",
    "\n",
    "    # Base case: If the matrix is 2x2, calculate the determinant directly\n",
    "    if len(matrix) == 2 and len(matrix[0]) == 2:\n",
    "        return matrix[0][0] * matrix[1][1] - matrix[0][1] * matrix[1][0]\n",
    "\n",
    "    det = 0\n",
    "    for col in range(len(matrix[0])):\n",
    "        # Calculate the cofactor for the current element\n",
    "        cofactor = matrix[0][col] * determinant(get_submatrix(matrix, 0, col))\n",
    "        # Add or subtract the cofactor based on the column index\n",
    "        det += cofactor if col % 2 == 0 else -cofactor\n",
    "\n",
    "    return det\n",
    "\n",
    "def get_submatrix(matrix, row_to_exclude, col_to_exclude):\n",
    "    # Helper function to get the submatrix after excluding a specified1 row and column\n",
    "    return [[matrix[i][j] for j in range(len(matrix[0])) if j != col_to_exclude] for i in range(len(matrix)) if i != row_to_exclude]\n"
   ]
  },
  {
   "cell_type": "markdown",
   "id": "8014479a",
   "metadata": {},
   "source": [
    "Using the function with a random matrix:"
   ]
  },
  {
   "cell_type": "code",
   "execution_count": 4,
   "id": "da56fd46",
   "metadata": {},
   "outputs": [
    {
     "name": "stdout",
     "output_type": "stream",
     "text": [
      "Determinant: 54\n"
     ]
    }
   ],
   "source": [
    "def determinant(matrix):\n",
    "    if len(matrix) == 1 and len(matrix[0]) == 1:\n",
    "        return matrix[0][0]\n",
    "\n",
    "    if len(matrix) == 2 and len(matrix[0]) == 2:\n",
    "        return matrix[0][0] * matrix[1][1] - matrix[0][1] * matrix[1][0]\n",
    "\n",
    "    det = 0\n",
    "    for col in range(len(matrix[0])):\n",
    "        cofactor = matrix[0][col] * determinant(get_submatrix(matrix, 0, col))\n",
    "        det += cofactor if col % 2 == 0 else -cofactor\n",
    "\n",
    "    return det\n",
    "\n",
    "def get_submatrix(matrix, row_to_exclude, col_to_exclude):\n",
    "    return [[matrix[i][j] for j in range(len(matrix[0])) if j != col_to_exclude] for i in range(len(matrix)) if i != row_to_exclude]\n",
    "\n",
    "#example\n",
    "matrix = [\n",
    "    [1,2,4],\n",
    "    [4,2,6],\n",
    "    [7,8,9]\n",
    "]\n",
    "\n",
    "result = determinant(matrix)\n",
    "print(\"Determinant:\", result)"
   ]
  },
  {
   "cell_type": "markdown",
   "id": "e2d2f7a4",
   "metadata": {},
   "source": [
    "2. Develop a python function from scratch that will find both the eigenvectors and eigenvalues of any nxn matrix."
   ]
  },
  {
   "cell_type": "code",
   "execution_count": 3,
   "id": "ae61e16e",
   "metadata": {},
   "outputs": [],
   "source": [
    "def find_eigenvectors_and_eigenvalues(matrix):\n",
    "    n = len(matrix)\n",
    "    eigenvalues = [0] * n\n",
    "    eigenvectors = [[0] * n for _ in range(n)]\n",
    "\n",
    "    for i in range(n):\n",
    "        a = sum([matrix[j][i] for j in range(n)])\n",
    "        b = sum([matrix[i][j] * matrix[j][i] for j in range(n)])\n",
    "        eigenvalues[i] = round((a + b**0.5)**0.5, 6)\n",
    "\n",
    "    for i in range(n):\n",
    "        eigenvectors[i][i] = 1\n",
    "        a = eigenvalues[i]\n",
    "        b = sum([matrix[i][j] for j in range(n) if j != i])\n",
    "        if a != b:\n",
    "            for j in range(n):\n",
    "                eigenvectors[i][j] = round((matrix[i][j] - a) / (a - b), 6)\n",
    "        else:\n",
    "            eigenvectors[i][i] = 0\n",
    "            eigenvectors[i][(i + 1) % n] = 1\n",
    "\n",
    "    return eigenvalues, eigenvectors"
   ]
  },
  {
   "cell_type": "markdown",
   "id": "93c49a42",
   "metadata": {},
   "source": [
    "Using the function with a random matrix:"
   ]
  },
  {
   "cell_type": "code",
   "execution_count": 2,
   "id": "d0dae089",
   "metadata": {},
   "outputs": [
    {
     "name": "stdout",
     "output_type": "stream",
     "text": [
      "Eigenvalues:  [3.904484, 4.953348]\n",
      "Eigenvectors:  [[0.825624, -1.0], [-1.0, -3.866282]]\n"
     ]
    }
   ],
   "source": [
    "def find_eigenvectors_and_eigenvalues(matrix):\n",
    "    n = len(matrix)\n",
    "    eigenvalues = [0] * n\n",
    "    eigenvectors = [[0] * n for _ in range(n)]\n",
    "\n",
    "    for i in range(n):\n",
    "        a = sum([matrix[j][i] for j in range(n)])\n",
    "        b = sum([matrix[i][j] * matrix[j][i] for j in range(n)])\n",
    "        eigenvalues[i] = round((a + b**0.5)**0.5, 6)\n",
    "\n",
    "    for i in range(n):\n",
    "        eigenvectors[i][i] = 1\n",
    "        a = eigenvalues[i]\n",
    "        b = sum([matrix[i][j] for j in range(n) if j != i])\n",
    "        if a != b:\n",
    "            for j in range(n):\n",
    "                eigenvectors[i][j] = round((matrix[i][j] - a) / (a - b), 6)\n",
    "        else:\n",
    "            eigenvectors[i][i] = 0\n",
    "            eigenvectors[i][(i + 1) % n] = 1\n",
    "\n",
    "    return eigenvalues, eigenvectors\n",
    "\n",
    "# example\n",
    "matrix = [[3, 5], [6, 9]]\n",
    "eigenvalues, eigenvectors = find_eigenvectors_and_eigenvalues(matrix)\n",
    "print(\"Eigenvalues: \", eigenvalues)\n",
    "print(\"Eigenvectors: \", eigenvectors)"
   ]
  },
  {
   "cell_type": "code",
   "execution_count": null,
   "id": "35174e36",
   "metadata": {},
   "outputs": [],
   "source": []
  }
 ],
 "metadata": {
  "kernelspec": {
   "display_name": "Python 3 (ipykernel)",
   "language": "python",
   "name": "python3"
  },
  "language_info": {
   "codemirror_mode": {
    "name": "ipython",
    "version": 3
   },
   "file_extension": ".py",
   "mimetype": "text/x-python",
   "name": "python",
   "nbconvert_exporter": "python",
   "pygments_lexer": "ipython3",
   "version": "3.11.4"
  }
 },
 "nbformat": 4,
 "nbformat_minor": 5
}
